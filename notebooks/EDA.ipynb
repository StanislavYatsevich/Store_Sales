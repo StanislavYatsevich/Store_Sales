{
 "cells": [
  {
   "cell_type": "code",
   "execution_count": 1,
   "metadata": {},
   "outputs": [],
   "source": [
    "import pandas as pd\n",
    "import numpy as np\n",
    "import matplotlib.pyplot as plt\n",
    "import seaborn as sns\n",
    "import plotly.graph_objs as go\n",
    "from plotly.subplots import make_subplots\n",
    "import re"
   ]
  },
  {
   "cell_type": "markdown",
   "metadata": {},
   "source": [
    "### At first let's load the data and check whether it's done correctly"
   ]
  },
  {
   "cell_type": "code",
   "execution_count": 2,
   "metadata": {},
   "outputs": [],
   "source": [
    "train_data = pd.read_csv(\"../data/prepared_data/train_data.csv\")"
   ]
  },
  {
   "cell_type": "code",
   "execution_count": 3,
   "metadata": {},
   "outputs": [
    {
     "data": {
      "text/html": [
       "<div>\n",
       "<style scoped>\n",
       "    .dataframe tbody tr th:only-of-type {\n",
       "        vertical-align: middle;\n",
       "    }\n",
       "\n",
       "    .dataframe tbody tr th {\n",
       "        vertical-align: top;\n",
       "    }\n",
       "\n",
       "    .dataframe thead th {\n",
       "        text-align: right;\n",
       "    }\n",
       "</style>\n",
       "<table border=\"1\" class=\"dataframe\">\n",
       "  <thead>\n",
       "    <tr style=\"text-align: right;\">\n",
       "      <th></th>\n",
       "      <th>date</th>\n",
       "      <th>store_number</th>\n",
       "      <th>item_family</th>\n",
       "      <th>items_on_promotion</th>\n",
       "      <th>item_sales</th>\n",
       "      <th>city</th>\n",
       "      <th>state</th>\n",
       "      <th>store_type</th>\n",
       "      <th>store_cluster</th>\n",
       "      <th>oil_price</th>\n",
       "      <th>day_type</th>\n",
       "      <th>holiday_status</th>\n",
       "      <th>holiday_location</th>\n",
       "      <th>holiday_description</th>\n",
       "      <th>is_holiday_transferred</th>\n",
       "      <th>mean_sales_prev_week</th>\n",
       "    </tr>\n",
       "  </thead>\n",
       "  <tbody>\n",
       "    <tr>\n",
       "      <th>0</th>\n",
       "      <td>2013-01-01</td>\n",
       "      <td>1</td>\n",
       "      <td>AUTOMOTIVE</td>\n",
       "      <td>0</td>\n",
       "      <td>0.0</td>\n",
       "      <td>Quito</td>\n",
       "      <td>Pichincha</td>\n",
       "      <td>D</td>\n",
       "      <td>13</td>\n",
       "      <td>93.14</td>\n",
       "      <td>Holiday</td>\n",
       "      <td>National</td>\n",
       "      <td>Ecuador</td>\n",
       "      <td>Primer dia del ano</td>\n",
       "      <td>False</td>\n",
       "      <td>0.0</td>\n",
       "    </tr>\n",
       "    <tr>\n",
       "      <th>1</th>\n",
       "      <td>2013-01-01</td>\n",
       "      <td>1</td>\n",
       "      <td>BABY CARE</td>\n",
       "      <td>0</td>\n",
       "      <td>0.0</td>\n",
       "      <td>Quito</td>\n",
       "      <td>Pichincha</td>\n",
       "      <td>D</td>\n",
       "      <td>13</td>\n",
       "      <td>93.14</td>\n",
       "      <td>Holiday</td>\n",
       "      <td>National</td>\n",
       "      <td>Ecuador</td>\n",
       "      <td>Primer dia del ano</td>\n",
       "      <td>False</td>\n",
       "      <td>0.0</td>\n",
       "    </tr>\n",
       "    <tr>\n",
       "      <th>2</th>\n",
       "      <td>2013-01-01</td>\n",
       "      <td>1</td>\n",
       "      <td>BEAUTY</td>\n",
       "      <td>0</td>\n",
       "      <td>0.0</td>\n",
       "      <td>Quito</td>\n",
       "      <td>Pichincha</td>\n",
       "      <td>D</td>\n",
       "      <td>13</td>\n",
       "      <td>93.14</td>\n",
       "      <td>Holiday</td>\n",
       "      <td>National</td>\n",
       "      <td>Ecuador</td>\n",
       "      <td>Primer dia del ano</td>\n",
       "      <td>False</td>\n",
       "      <td>0.0</td>\n",
       "    </tr>\n",
       "    <tr>\n",
       "      <th>3</th>\n",
       "      <td>2013-01-01</td>\n",
       "      <td>1</td>\n",
       "      <td>BEVERAGES</td>\n",
       "      <td>0</td>\n",
       "      <td>0.0</td>\n",
       "      <td>Quito</td>\n",
       "      <td>Pichincha</td>\n",
       "      <td>D</td>\n",
       "      <td>13</td>\n",
       "      <td>93.14</td>\n",
       "      <td>Holiday</td>\n",
       "      <td>National</td>\n",
       "      <td>Ecuador</td>\n",
       "      <td>Primer dia del ano</td>\n",
       "      <td>False</td>\n",
       "      <td>0.0</td>\n",
       "    </tr>\n",
       "    <tr>\n",
       "      <th>4</th>\n",
       "      <td>2013-01-01</td>\n",
       "      <td>1</td>\n",
       "      <td>BOOKS</td>\n",
       "      <td>0</td>\n",
       "      <td>0.0</td>\n",
       "      <td>Quito</td>\n",
       "      <td>Pichincha</td>\n",
       "      <td>D</td>\n",
       "      <td>13</td>\n",
       "      <td>93.14</td>\n",
       "      <td>Holiday</td>\n",
       "      <td>National</td>\n",
       "      <td>Ecuador</td>\n",
       "      <td>Primer dia del ano</td>\n",
       "      <td>False</td>\n",
       "      <td>0.0</td>\n",
       "    </tr>\n",
       "  </tbody>\n",
       "</table>\n",
       "</div>"
      ],
      "text/plain": [
       "         date  store_number item_family  items_on_promotion  item_sales  \\\n",
       "0  2013-01-01             1  AUTOMOTIVE                   0         0.0   \n",
       "1  2013-01-01             1   BABY CARE                   0         0.0   \n",
       "2  2013-01-01             1      BEAUTY                   0         0.0   \n",
       "3  2013-01-01             1   BEVERAGES                   0         0.0   \n",
       "4  2013-01-01             1       BOOKS                   0         0.0   \n",
       "\n",
       "    city      state store_type  store_cluster  oil_price day_type  \\\n",
       "0  Quito  Pichincha          D             13      93.14  Holiday   \n",
       "1  Quito  Pichincha          D             13      93.14  Holiday   \n",
       "2  Quito  Pichincha          D             13      93.14  Holiday   \n",
       "3  Quito  Pichincha          D             13      93.14  Holiday   \n",
       "4  Quito  Pichincha          D             13      93.14  Holiday   \n",
       "\n",
       "  holiday_status holiday_location holiday_description  is_holiday_transferred  \\\n",
       "0       National          Ecuador  Primer dia del ano                   False   \n",
       "1       National          Ecuador  Primer dia del ano                   False   \n",
       "2       National          Ecuador  Primer dia del ano                   False   \n",
       "3       National          Ecuador  Primer dia del ano                   False   \n",
       "4       National          Ecuador  Primer dia del ano                   False   \n",
       "\n",
       "   mean_sales_prev_week  \n",
       "0                   0.0  \n",
       "1                   0.0  \n",
       "2                   0.0  \n",
       "3                   0.0  \n",
       "4                   0.0  "
      ]
     },
     "execution_count": 3,
     "metadata": {},
     "output_type": "execute_result"
    }
   ],
   "source": [
    "train_data.head()"
   ]
  },
  {
   "cell_type": "markdown",
   "metadata": {},
   "source": [
    "### Now let's check whether there are some missing values or duplicated rows"
   ]
  },
  {
   "cell_type": "code",
   "execution_count": 4,
   "metadata": {},
   "outputs": [
    {
     "data": {
      "text/plain": [
       "date                      0\n",
       "store_number              0\n",
       "item_family               0\n",
       "items_on_promotion        0\n",
       "item_sales                0\n",
       "city                      0\n",
       "state                     0\n",
       "store_type                0\n",
       "store_cluster             0\n",
       "oil_price                 0\n",
       "day_type                  0\n",
       "holiday_status            0\n",
       "holiday_location          0\n",
       "holiday_description       0\n",
       "is_holiday_transferred    0\n",
       "mean_sales_prev_week      0\n",
       "dtype: int64"
      ]
     },
     "execution_count": 4,
     "metadata": {},
     "output_type": "execute_result"
    }
   ],
   "source": [
    "train_data.isna().sum()"
   ]
  },
  {
   "cell_type": "code",
   "execution_count": 5,
   "metadata": {},
   "outputs": [
    {
     "data": {
      "text/plain": [
       "0"
      ]
     },
     "execution_count": 5,
     "metadata": {},
     "output_type": "execute_result"
    }
   ],
   "source": [
    "train_data.duplicated().sum()"
   ]
  },
  {
   "cell_type": "code",
   "execution_count": 6,
   "metadata": {},
   "outputs": [
    {
     "name": "stdout",
     "output_type": "stream",
     "text": [
      "<class 'pandas.core.frame.DataFrame'>\n",
      "RangeIndex: 2400710 entries, 0 to 2400709\n",
      "Data columns (total 16 columns):\n",
      " #   Column                  Dtype  \n",
      "---  ------                  -----  \n",
      " 0   date                    object \n",
      " 1   store_number            int64  \n",
      " 2   item_family             object \n",
      " 3   items_on_promotion      int64  \n",
      " 4   item_sales              float64\n",
      " 5   city                    object \n",
      " 6   state                   object \n",
      " 7   store_type              object \n",
      " 8   store_cluster           int64  \n",
      " 9   oil_price               float64\n",
      " 10  day_type                object \n",
      " 11  holiday_status          object \n",
      " 12  holiday_location        object \n",
      " 13  holiday_description     object \n",
      " 14  is_holiday_transferred  bool   \n",
      " 15  mean_sales_prev_week    float64\n",
      "dtypes: bool(1), float64(3), int64(3), object(9)\n",
      "memory usage: 277.0+ MB\n"
     ]
    }
   ],
   "source": [
    "train_data.info()"
   ]
  },
  {
   "cell_type": "code",
   "execution_count": 7,
   "metadata": {},
   "outputs": [
    {
     "data": {
      "text/plain": [
       "2400710"
      ]
     },
     "execution_count": 7,
     "metadata": {},
     "output_type": "execute_result"
    }
   ],
   "source": [
    "len(train_data)"
   ]
  },
  {
   "cell_type": "markdown",
   "metadata": {},
   "source": [
    "### Now let's perform some necessary data preparation of the train part for EDA"
   ]
  },
  {
   "cell_type": "code",
   "execution_count": 8,
   "metadata": {},
   "outputs": [
    {
     "data": {
      "text/html": [
       "<div>\n",
       "<style scoped>\n",
       "    .dataframe tbody tr th:only-of-type {\n",
       "        vertical-align: middle;\n",
       "    }\n",
       "\n",
       "    .dataframe tbody tr th {\n",
       "        vertical-align: top;\n",
       "    }\n",
       "\n",
       "    .dataframe thead th {\n",
       "        text-align: right;\n",
       "    }\n",
       "</style>\n",
       "<table border=\"1\" class=\"dataframe\">\n",
       "  <thead>\n",
       "    <tr style=\"text-align: right;\">\n",
       "      <th></th>\n",
       "      <th>date</th>\n",
       "      <th>store_number</th>\n",
       "      <th>item_family</th>\n",
       "      <th>items_on_promotion</th>\n",
       "      <th>item_sales</th>\n",
       "      <th>city</th>\n",
       "      <th>state</th>\n",
       "      <th>store_type</th>\n",
       "      <th>store_cluster</th>\n",
       "      <th>oil_price</th>\n",
       "      <th>day_type</th>\n",
       "      <th>holiday_status</th>\n",
       "      <th>holiday_location</th>\n",
       "      <th>holiday_description</th>\n",
       "      <th>is_holiday_transferred</th>\n",
       "      <th>mean_sales_prev_week</th>\n",
       "    </tr>\n",
       "  </thead>\n",
       "  <tbody>\n",
       "    <tr>\n",
       "      <th>0</th>\n",
       "      <td>2013-01-01</td>\n",
       "      <td>1</td>\n",
       "      <td>AUTOMOTIVE</td>\n",
       "      <td>0</td>\n",
       "      <td>0.0</td>\n",
       "      <td>Quito</td>\n",
       "      <td>Pichincha</td>\n",
       "      <td>D</td>\n",
       "      <td>13</td>\n",
       "      <td>93.14</td>\n",
       "      <td>Holiday</td>\n",
       "      <td>National</td>\n",
       "      <td>Ecuador</td>\n",
       "      <td>Primer dia del ano</td>\n",
       "      <td>False</td>\n",
       "      <td>0.0</td>\n",
       "    </tr>\n",
       "    <tr>\n",
       "      <th>1</th>\n",
       "      <td>2013-01-01</td>\n",
       "      <td>1</td>\n",
       "      <td>BABY CARE</td>\n",
       "      <td>0</td>\n",
       "      <td>0.0</td>\n",
       "      <td>Quito</td>\n",
       "      <td>Pichincha</td>\n",
       "      <td>D</td>\n",
       "      <td>13</td>\n",
       "      <td>93.14</td>\n",
       "      <td>Holiday</td>\n",
       "      <td>National</td>\n",
       "      <td>Ecuador</td>\n",
       "      <td>Primer dia del ano</td>\n",
       "      <td>False</td>\n",
       "      <td>0.0</td>\n",
       "    </tr>\n",
       "    <tr>\n",
       "      <th>2</th>\n",
       "      <td>2013-01-01</td>\n",
       "      <td>1</td>\n",
       "      <td>BEAUTY</td>\n",
       "      <td>0</td>\n",
       "      <td>0.0</td>\n",
       "      <td>Quito</td>\n",
       "      <td>Pichincha</td>\n",
       "      <td>D</td>\n",
       "      <td>13</td>\n",
       "      <td>93.14</td>\n",
       "      <td>Holiday</td>\n",
       "      <td>National</td>\n",
       "      <td>Ecuador</td>\n",
       "      <td>Primer dia del ano</td>\n",
       "      <td>False</td>\n",
       "      <td>0.0</td>\n",
       "    </tr>\n",
       "    <tr>\n",
       "      <th>3</th>\n",
       "      <td>2013-01-01</td>\n",
       "      <td>1</td>\n",
       "      <td>BEVERAGES</td>\n",
       "      <td>0</td>\n",
       "      <td>0.0</td>\n",
       "      <td>Quito</td>\n",
       "      <td>Pichincha</td>\n",
       "      <td>D</td>\n",
       "      <td>13</td>\n",
       "      <td>93.14</td>\n",
       "      <td>Holiday</td>\n",
       "      <td>National</td>\n",
       "      <td>Ecuador</td>\n",
       "      <td>Primer dia del ano</td>\n",
       "      <td>False</td>\n",
       "      <td>0.0</td>\n",
       "    </tr>\n",
       "    <tr>\n",
       "      <th>4</th>\n",
       "      <td>2013-01-01</td>\n",
       "      <td>1</td>\n",
       "      <td>BOOKS</td>\n",
       "      <td>0</td>\n",
       "      <td>0.0</td>\n",
       "      <td>Quito</td>\n",
       "      <td>Pichincha</td>\n",
       "      <td>D</td>\n",
       "      <td>13</td>\n",
       "      <td>93.14</td>\n",
       "      <td>Holiday</td>\n",
       "      <td>National</td>\n",
       "      <td>Ecuador</td>\n",
       "      <td>Primer dia del ano</td>\n",
       "      <td>False</td>\n",
       "      <td>0.0</td>\n",
       "    </tr>\n",
       "  </tbody>\n",
       "</table>\n",
       "</div>"
      ],
      "text/plain": [
       "         date  store_number item_family  items_on_promotion  item_sales  \\\n",
       "0  2013-01-01             1  AUTOMOTIVE                   0         0.0   \n",
       "1  2013-01-01             1   BABY CARE                   0         0.0   \n",
       "2  2013-01-01             1      BEAUTY                   0         0.0   \n",
       "3  2013-01-01             1   BEVERAGES                   0         0.0   \n",
       "4  2013-01-01             1       BOOKS                   0         0.0   \n",
       "\n",
       "    city      state store_type  store_cluster  oil_price day_type  \\\n",
       "0  Quito  Pichincha          D             13      93.14  Holiday   \n",
       "1  Quito  Pichincha          D             13      93.14  Holiday   \n",
       "2  Quito  Pichincha          D             13      93.14  Holiday   \n",
       "3  Quito  Pichincha          D             13      93.14  Holiday   \n",
       "4  Quito  Pichincha          D             13      93.14  Holiday   \n",
       "\n",
       "  holiday_status holiday_location holiday_description  is_holiday_transferred  \\\n",
       "0       National          Ecuador  Primer dia del ano                   False   \n",
       "1       National          Ecuador  Primer dia del ano                   False   \n",
       "2       National          Ecuador  Primer dia del ano                   False   \n",
       "3       National          Ecuador  Primer dia del ano                   False   \n",
       "4       National          Ecuador  Primer dia del ano                   False   \n",
       "\n",
       "   mean_sales_prev_week  \n",
       "0                   0.0  \n",
       "1                   0.0  \n",
       "2                   0.0  \n",
       "3                   0.0  \n",
       "4                   0.0  "
      ]
     },
     "execution_count": 8,
     "metadata": {},
     "output_type": "execute_result"
    }
   ],
   "source": [
    "train_data.head()"
   ]
  },
  {
   "cell_type": "code",
   "execution_count": 9,
   "metadata": {},
   "outputs": [
    {
     "data": {
      "text/html": [
       "<div>\n",
       "<style scoped>\n",
       "    .dataframe tbody tr th:only-of-type {\n",
       "        vertical-align: middle;\n",
       "    }\n",
       "\n",
       "    .dataframe tbody tr th {\n",
       "        vertical-align: top;\n",
       "    }\n",
       "\n",
       "    .dataframe thead th {\n",
       "        text-align: right;\n",
       "    }\n",
       "</style>\n",
       "<table border=\"1\" class=\"dataframe\">\n",
       "  <thead>\n",
       "    <tr style=\"text-align: right;\">\n",
       "      <th></th>\n",
       "      <th>date</th>\n",
       "      <th>store_number</th>\n",
       "      <th>item_family</th>\n",
       "      <th>items_on_promotion</th>\n",
       "      <th>item_sales</th>\n",
       "      <th>city</th>\n",
       "      <th>state</th>\n",
       "      <th>store_type</th>\n",
       "      <th>store_cluster</th>\n",
       "      <th>oil_price</th>\n",
       "      <th>day_type</th>\n",
       "      <th>holiday_status</th>\n",
       "      <th>holiday_location</th>\n",
       "      <th>holiday_description</th>\n",
       "      <th>is_holiday_transferred</th>\n",
       "      <th>mean_sales_prev_week</th>\n",
       "    </tr>\n",
       "  </thead>\n",
       "  <tbody>\n",
       "    <tr>\n",
       "      <th>2400705</th>\n",
       "      <td>2016-09-12</td>\n",
       "      <td>19</td>\n",
       "      <td>LINGERIE</td>\n",
       "      <td>0</td>\n",
       "      <td>26.000</td>\n",
       "      <td>Guaranda</td>\n",
       "      <td>Bolivar</td>\n",
       "      <td>C</td>\n",
       "      <td>15</td>\n",
       "      <td>46.28</td>\n",
       "      <td>Not holiday</td>\n",
       "      <td>Not holiday</td>\n",
       "      <td>Not holiday</td>\n",
       "      <td>Not holiday</td>\n",
       "      <td>False</td>\n",
       "      <td>13.142857</td>\n",
       "    </tr>\n",
       "    <tr>\n",
       "      <th>2400706</th>\n",
       "      <td>2016-09-12</td>\n",
       "      <td>19</td>\n",
       "      <td>LIQUOR,WINE,BEER</td>\n",
       "      <td>0</td>\n",
       "      <td>9.000</td>\n",
       "      <td>Guaranda</td>\n",
       "      <td>Bolivar</td>\n",
       "      <td>C</td>\n",
       "      <td>15</td>\n",
       "      <td>46.28</td>\n",
       "      <td>Not holiday</td>\n",
       "      <td>Not holiday</td>\n",
       "      <td>Not holiday</td>\n",
       "      <td>Not holiday</td>\n",
       "      <td>False</td>\n",
       "      <td>22.714286</td>\n",
       "    </tr>\n",
       "    <tr>\n",
       "      <th>2400707</th>\n",
       "      <td>2016-09-12</td>\n",
       "      <td>19</td>\n",
       "      <td>MAGAZINES</td>\n",
       "      <td>0</td>\n",
       "      <td>1.000</td>\n",
       "      <td>Guaranda</td>\n",
       "      <td>Bolivar</td>\n",
       "      <td>C</td>\n",
       "      <td>15</td>\n",
       "      <td>46.28</td>\n",
       "      <td>Not holiday</td>\n",
       "      <td>Not holiday</td>\n",
       "      <td>Not holiday</td>\n",
       "      <td>Not holiday</td>\n",
       "      <td>False</td>\n",
       "      <td>2.857143</td>\n",
       "    </tr>\n",
       "    <tr>\n",
       "      <th>2400708</th>\n",
       "      <td>2016-09-12</td>\n",
       "      <td>19</td>\n",
       "      <td>MEATS</td>\n",
       "      <td>0</td>\n",
       "      <td>170.509</td>\n",
       "      <td>Guaranda</td>\n",
       "      <td>Bolivar</td>\n",
       "      <td>C</td>\n",
       "      <td>15</td>\n",
       "      <td>46.28</td>\n",
       "      <td>Not holiday</td>\n",
       "      <td>Not holiday</td>\n",
       "      <td>Not holiday</td>\n",
       "      <td>Not holiday</td>\n",
       "      <td>False</td>\n",
       "      <td>129.377001</td>\n",
       "    </tr>\n",
       "    <tr>\n",
       "      <th>2400709</th>\n",
       "      <td>2016-09-12</td>\n",
       "      <td>19</td>\n",
       "      <td>PERSONAL CARE</td>\n",
       "      <td>8</td>\n",
       "      <td>181.000</td>\n",
       "      <td>Guaranda</td>\n",
       "      <td>Bolivar</td>\n",
       "      <td>C</td>\n",
       "      <td>15</td>\n",
       "      <td>46.28</td>\n",
       "      <td>Not holiday</td>\n",
       "      <td>Not holiday</td>\n",
       "      <td>Not holiday</td>\n",
       "      <td>Not holiday</td>\n",
       "      <td>False</td>\n",
       "      <td>198.428571</td>\n",
       "    </tr>\n",
       "  </tbody>\n",
       "</table>\n",
       "</div>"
      ],
      "text/plain": [
       "               date  store_number       item_family  items_on_promotion  \\\n",
       "2400705  2016-09-12            19          LINGERIE                   0   \n",
       "2400706  2016-09-12            19  LIQUOR,WINE,BEER                   0   \n",
       "2400707  2016-09-12            19         MAGAZINES                   0   \n",
       "2400708  2016-09-12            19             MEATS                   0   \n",
       "2400709  2016-09-12            19     PERSONAL CARE                   8   \n",
       "\n",
       "         item_sales      city    state store_type  store_cluster  oil_price  \\\n",
       "2400705      26.000  Guaranda  Bolivar          C             15      46.28   \n",
       "2400706       9.000  Guaranda  Bolivar          C             15      46.28   \n",
       "2400707       1.000  Guaranda  Bolivar          C             15      46.28   \n",
       "2400708     170.509  Guaranda  Bolivar          C             15      46.28   \n",
       "2400709     181.000  Guaranda  Bolivar          C             15      46.28   \n",
       "\n",
       "            day_type holiday_status holiday_location holiday_description  \\\n",
       "2400705  Not holiday    Not holiday      Not holiday         Not holiday   \n",
       "2400706  Not holiday    Not holiday      Not holiday         Not holiday   \n",
       "2400707  Not holiday    Not holiday      Not holiday         Not holiday   \n",
       "2400708  Not holiday    Not holiday      Not holiday         Not holiday   \n",
       "2400709  Not holiday    Not holiday      Not holiday         Not holiday   \n",
       "\n",
       "         is_holiday_transferred  mean_sales_prev_week  \n",
       "2400705                   False             13.142857  \n",
       "2400706                   False             22.714286  \n",
       "2400707                   False              2.857143  \n",
       "2400708                   False            129.377001  \n",
       "2400709                   False            198.428571  "
      ]
     },
     "execution_count": 9,
     "metadata": {},
     "output_type": "execute_result"
    }
   ],
   "source": [
    "train_data.tail()"
   ]
  },
  {
   "cell_type": "code",
   "execution_count": 10,
   "metadata": {},
   "outputs": [
    {
     "data": {
      "text/plain": [
       "0          1\n",
       "1600485    1\n",
       "1600469    1\n",
       "1600470    1\n",
       "1600471    1\n",
       "          ..\n",
       "800237     1\n",
       "800238     1\n",
       "800239     1\n",
       "800240     1\n",
       "2400709    1\n",
       "Name: count, Length: 2400710, dtype: int64"
      ]
     },
     "execution_count": 10,
     "metadata": {},
     "output_type": "execute_result"
    }
   ],
   "source": [
    "train_data.index.value_counts()"
   ]
  },
  {
   "cell_type": "markdown",
   "metadata": {},
   "source": [
    "### We see that the data is prepared correctly and now let's search for some interesting patterns in it (i.e EDA)"
   ]
  },
  {
   "cell_type": "code",
   "execution_count": 11,
   "metadata": {},
   "outputs": [
    {
     "data": {
      "image/png": "[encoded data removed]",
      "text/plain": [
       "<Figure size 1200x800 with 1 Axes>"
      ]
     },
     "metadata": {},
     "output_type": "display_data"
    }
   ],
   "source": [
    "item_families_sales_summary = train_data.groupby('item_family')['item_sales'].sum().reset_index().sort_values(by='item_sales', ascending=False)\n",
    "\n",
    "plt.figure(figsize=(12, 8))\n",
    "sns.barplot(data=item_families_sales_summary, x='item_family', y='item_sales', color='skyblue')\n",
    "plt.xlabel(\"Items' families\")\n",
    "plt.ylabel(\"Total sales\")\n",
    "plt.title(\"Most sellable items' families\")\n",
    "plt.xticks(rotation=90)  \n",
    "plt.show()"
   ]
  },
  {
   "cell_type": "markdown",
   "metadata": {},
   "source": [
    "#### Grocery, Beverages, Produce, Cleaning and Dairy – top 5 most sellable items' families"
   ]
  },
  {
   "cell_type": "code",
   "execution_count": 12,
   "metadata": {},
   "outputs": [
    {
     "data": {
      "image/png": "[encoded data removed]",
      "text/plain": [
       "<Figure size 1000x600 with 1 Axes>"
      ]
     },
     "metadata": {},
     "output_type": "display_data"
    }
   ],
   "source": [
    "store_sales_summary = train_data.groupby('store_number')['item_sales'].sum().reset_index().sort_values(by='item_sales', ascending=False)\n",
    "store_sales_summary['store_number'] = pd.Categorical(store_sales_summary['store_number'], \n",
    "                                                     categories=store_sales_summary['store_number'], \n",
    "                                                     ordered=True)\n",
    "plt.figure(figsize=(10, 6))\n",
    "sns.barplot(data=store_sales_summary, x='store_number', y='item_sales', hue='store_number', dodge=False, palette='viridis', legend=False)\n",
    "plt.xlabel('Store number')\n",
    "plt.ylabel('Total sales')\n",
    "plt.title(\"Stores' total sales\")\n",
    "plt.xticks(rotation=90)\n",
    "plt.show()"
   ]
  },
  {
   "cell_type": "markdown",
   "metadata": {},
   "source": [
    "#### There are 11 stores (3, 8, 11, 44, 45, 46, 47, 48, 49, 50, 51) with at least 20 million total sales. Let's check their locations"
   ]
  },
  {
   "cell_type": "code",
   "execution_count": 13,
   "metadata": {},
   "outputs": [
    {
     "data": {
      "text/plain": [
       "city\n",
       "Quito        355608\n",
       "Cayambe       44484\n",
       "Ambato        44451\n",
       "Guayaquil     44451\n",
       "Name: count, dtype: int64"
      ]
     },
     "execution_count": 13,
     "metadata": {},
     "output_type": "execute_result"
    }
   ],
   "source": [
    "train_data[train_data['store_number'].isin([3, 8, 11, 44, 45, 46, 47, 48, 49, 50, 51])]['city'].value_counts()"
   ]
  },
  {
   "cell_type": "markdown",
   "metadata": {},
   "source": [
    "### Let's see average sales among all shops and dates"
   ]
  },
  {
   "cell_type": "code",
   "execution_count": 14,
   "metadata": {},
   "outputs": [
    {
     "data": {
      "text/plain": [
       "328.24"
      ]
     },
     "execution_count": 14,
     "metadata": {},
     "output_type": "execute_result"
    }
   ],
   "source": [
    "np.round(train_data['item_sales'].mean(), 2)"
   ]
  },
  {
   "cell_type": "markdown",
   "metadata": {},
   "source": [
    "### Now let's see average sales depending on store type and store cluster"
   ]
  },
  {
   "cell_type": "code",
   "execution_count": 15,
   "metadata": {},
   "outputs": [
    {
     "data": {
      "image/png": "[encoded data removed]",
      "text/plain": [
       "<Figure size 1000x600 with 1 Axes>"
      ]
     },
     "metadata": {},
     "output_type": "display_data"
    }
   ],
   "source": [
    "store_type_sales_summary = train_data.groupby('store_type')['item_sales'].mean().reset_index().sort_values(by='item_sales', ascending=False)\n",
    "\n",
    "plt.figure(figsize=(10, 6))\n",
    "sns.barplot(data=store_type_sales_summary, x='store_type', y='item_sales', hue='store_type', dodge=False, palette='viridis', legend=False)\n",
    "plt.xlabel('Store type')\n",
    "plt.ylabel('Average sales')\n",
    "plt.title(\"Store types' average sales\")\n",
    "plt.xticks()\n",
    "plt.show()"
   ]
  },
  {
   "cell_type": "markdown",
   "metadata": {},
   "source": [
    "#### Stores of type A completely dominate over other stores' types. Its average sales are at least twice higher than any other type's"
   ]
  },
  {
   "cell_type": "code",
   "execution_count": 16,
   "metadata": {},
   "outputs": [
    {
     "data": {
      "image/png": "[encoded data removed]",
      "text/plain": [
       "<Figure size 1000x600 with 1 Axes>"
      ]
     },
     "metadata": {},
     "output_type": "display_data"
    }
   ],
   "source": [
    "store_cluster_sales_summary = train_data.groupby('store_cluster')['item_sales'].mean().reset_index().sort_values(by='item_sales', ascending=False)\n",
    "store_cluster_sales_summary['store_cluster'] = pd.Categorical(store_cluster_sales_summary['store_cluster'], \n",
    "                                                     categories=store_cluster_sales_summary['store_cluster'], \n",
    "                                                     ordered=True)\n",
    "plt.figure(figsize=(10, 6))\n",
    "sns.barplot(data=store_cluster_sales_summary, x='store_cluster', y='item_sales', hue='store_cluster', dodge=False, palette='viridis', legend=False)\n",
    "plt.xlabel('Store cluster')\n",
    "plt.ylabel('Average sales')\n",
    "plt.title(\"Store clusters' average sales\")\n",
    "plt.xticks()\n",
    "plt.show()"
   ]
  },
  {
   "cell_type": "markdown",
   "metadata": {},
   "source": [
    "#### There's a slightly different situation with store clusters. There are 5 among them (5, 8, 11, 14, 17) with each's average sales 530+ while others' average sales are <307"
   ]
  },
  {
   "cell_type": "markdown",
   "metadata": {},
   "source": [
    "### Now let's see average sales for every city and state"
   ]
  },
  {
   "cell_type": "code",
   "execution_count": 17,
   "metadata": {},
   "outputs": [
    {
     "data": {
      "image/png": "[encoded data removed]",
      "text/plain": [
       "<Figure size 1200x600 with 1 Axes>"
      ]
     },
     "metadata": {},
     "output_type": "display_data"
    }
   ],
   "source": [
    "cities_sales_summary = train_data.groupby('city')['item_sales'].mean().reset_index().sort_values(by='item_sales', ascending=False)\n",
    "\n",
    "plt.figure(figsize=(12, 6))\n",
    "sns.barplot(data=cities_sales_summary, x='city', y='item_sales', hue='city', dodge=False, palette='viridis', legend=False)\n",
    "plt.xlabel('City')\n",
    "plt.ylabel('Average sales')\n",
    "plt.title(\"Cities' average sales\")\n",
    "plt.xticks(rotation=45)\n",
    "plt.show()"
   ]
  },
  {
   "cell_type": "code",
   "execution_count": 18,
   "metadata": {},
   "outputs": [
    {
     "data": {
      "image/png": "[encoded data removed]",
      "text/plain": [
       "<Figure size 1200x600 with 1 Axes>"
      ]
     },
     "metadata": {},
     "output_type": "display_data"
    }
   ],
   "source": [
    "states_sales_summary = train_data.groupby('state')['item_sales'].mean().reset_index().sort_values(by='item_sales', ascending=False)\n",
    "\n",
    "plt.figure(figsize=(12, 6))\n",
    "sns.barplot(data=states_sales_summary, x='state', y='item_sales', hue='state', dodge=False, palette='viridis', legend=False)\n",
    "plt.xlabel('State')\n",
    "plt.ylabel('Average sales')\n",
    "plt.title(\"States' average sales\")\n",
    "plt.xticks(rotation=90)\n",
    "plt.show()"
   ]
  },
  {
   "cell_type": "markdown",
   "metadata": {},
   "source": [
    "#### There are 5 cities (Quito, Cayambe, Manta, Puyo, Playas) whose average sales stand out (First 2 are much higher than the mean number, last 3 are much lower).\n",
    "\n",
    "#### As for states, the main one here is Pichincha that dominates over others.\n",
    "\n",
    "### Now let's see total sales for every month and the oil prices' dependency on time"
   ]
  },
  {
   "cell_type": "code",
   "execution_count": 19,
   "metadata": {},
   "outputs": [
    {
     "name": "stdout",
     "output_type": "stream",
     "text": [
      "<class 'pandas.core.frame.DataFrame'>\n",
      "RangeIndex: 2400710 entries, 0 to 2400709\n",
      "Data columns (total 16 columns):\n",
      " #   Column                  Dtype  \n",
      "---  ------                  -----  \n",
      " 0   date                    object \n",
      " 1   store_number            int64  \n",
      " 2   item_family             object \n",
      " 3   items_on_promotion      int64  \n",
      " 4   item_sales              float64\n",
      " 5   city                    object \n",
      " 6   state                   object \n",
      " 7   store_type              object \n",
      " 8   store_cluster           int64  \n",
      " 9   oil_price               float64\n",
      " 10  day_type                object \n",
      " 11  holiday_status          object \n",
      " 12  holiday_location        object \n",
      " 13  holiday_description     object \n",
      " 14  is_holiday_transferred  bool   \n",
      " 15  mean_sales_prev_week    float64\n",
      "dtypes: bool(1), float64(3), int64(3), object(9)\n",
      "memory usage: 277.0+ MB\n"
     ]
    }
   ],
   "source": [
    "train_data.info()"
   ]
  },
  {
   "cell_type": "code",
   "execution_count": 20,
   "metadata": {},
   "outputs": [
    {
     "data": {
      "application/vnd.plotly.v1+json": {
       "config": {
        "plotlyServerURL": "https://plot.ly"
       },
       "data": [
        {
         "line": {
          "color": "blue"
         },
         "name": "Average Sales",
         "type": "scatter",
         "x": [
          "2013-01-01T00:00:00",
          "2013-02-01T00:00:00",
          "2013-03-01T00:00:00",
          "2013-04-01T00:00:00",
          "2013-05-01T00:00:00",
          "2013-06-01T00:00:00",
          "2013-07-01T00:00:00",
          "2013-08-01T00:00:00",
          "2013-09-01T00:00:00",
          "2013-10-01T00:00:00",
          "2013-11-01T00:00:00",
          "2013-12-01T00:00:00",
          "2014-01-01T00:00:00",
          "2014-02-01T00:00:00",
          "2014-03-01T00:00:00",
          "2014-04-01T00:00:00",
          "2014-05-01T00:00:00",
          "2014-06-01T00:00:00",
          "2014-07-01T00:00:00",
          "2014-08-01T00:00:00",
          "2014-09-01T00:00:00",
          "2014-10-01T00:00:00",
          "2014-11-01T00:00:00",
          "2014-12-01T00:00:00",
          "2015-01-01T00:00:00",
          "2015-02-01T00:00:00",
          "2015-03-01T00:00:00",
          "2015-04-01T00:00:00",
          "2015-05-01T00:00:00",
          "2015-06-01T00:00:00",
          "2015-07-01T00:00:00",
          "2015-08-01T00:00:00",
          "2015-09-01T00:00:00",
          "2015-10-01T00:00:00",
          "2015-11-01T00:00:00",
          "2015-12-01T00:00:00",
          "2016-01-01T00:00:00",
          "2016-02-01T00:00:00",
          "2016-03-01T00:00:00",
          "2016-04-01T00:00:00",
          "2016-05-01T00:00:00",
          "2016-06-01T00:00:00",
          "2016-07-01T00:00:00",
          "2016-08-01T00:00:00",
          "2016-09-01T00:00:00"
         ],
         "xaxis": "x",
         "y": [
          186.95240463613735,
          193.581845787975,
          206.88058067208826,
          205.63907104399178,
          209.94359376971872,
          218.65589342019453,
          203.78336424605914,
          212.47943447870642,
          220.59358832525066,
          213.1642656044151,
          231.13653746700524,
          295.6063813687729,
          342.3417092321676,
          241.26889197487372,
          368.66123631434414,
          240.57708674054246,
          242.20312916254844,
          249.15746676022448,
          351.57834697915354,
          251.35180513113573,
          374.53079150410775,
          369.21366558374245,
          384.05602700417506,
          455.3021766522671,
          269.666595293409,
          275.42079221543213,
          282.3686238433674,
          279.74313824869995,
          320.9581160042902,
          404.32772823124014,
          402.042269265032,
          415.692303705179,
          434.7340530847587,
          432.2484280902592,
          426.57974875067714,
          509.6143223676337,
          434.0502676484215,
          424.69539844813653,
          418.7353984978802,
          485.6532940883315,
          448.5614615732178,
          415.43618743702956,
          424.72525312449943,
          406.437390353262,
          466.508468233355
         ],
         "yaxis": "y"
        },
        {
         "line": {
          "color": "black"
         },
         "name": "Mean Oil Price",
         "type": "scatter",
         "x": [
          "2013-01-01T00:00:00",
          "2013-02-01T00:00:00",
          "2013-03-01T00:00:00",
          "2013-04-01T00:00:00",
          "2013-05-01T00:00:00",
          "2013-06-01T00:00:00",
          "2013-07-01T00:00:00",
          "2013-08-01T00:00:00",
          "2013-09-01T00:00:00",
          "2013-10-01T00:00:00",
          "2013-11-01T00:00:00",
          "2013-12-01T00:00:00",
          "2014-01-01T00:00:00",
          "2014-02-01T00:00:00",
          "2014-03-01T00:00:00",
          "2014-04-01T00:00:00",
          "2014-05-01T00:00:00",
          "2014-06-01T00:00:00",
          "2014-07-01T00:00:00",
          "2014-08-01T00:00:00",
          "2014-09-01T00:00:00",
          "2014-10-01T00:00:00",
          "2014-11-01T00:00:00",
          "2014-12-01T00:00:00",
          "2015-01-01T00:00:00",
          "2015-02-01T00:00:00",
          "2015-03-01T00:00:00",
          "2015-04-01T00:00:00",
          "2015-05-01T00:00:00",
          "2015-06-01T00:00:00",
          "2015-07-01T00:00:00",
          "2015-08-01T00:00:00",
          "2015-09-01T00:00:00",
          "2015-10-01T00:00:00",
          "2015-11-01T00:00:00",
          "2015-12-01T00:00:00",
          "2016-01-01T00:00:00",
          "2016-02-01T00:00:00",
          "2016-03-01T00:00:00",
          "2016-04-01T00:00:00",
          "2016-05-01T00:00:00",
          "2016-06-01T00:00:00",
          "2016-07-01T00:00:00",
          "2016-08-01T00:00:00",
          "2016-09-01T00:00:00"
         ],
         "xaxis": "x",
         "y": [
          94.77870967741936,
          95.4592857142857,
          93.25774193548386,
          91.81633333333333,
          94.73741935483872,
          95.85499999999999,
          104.73387096774194,
          106.61,
          106.247,
          100.6283870967742,
          93.88799999999999,
          97.578,
          94.40032258064517,
          100.8075,
          100.98193548387097,
          102.25733333333334,
          102.26741935483871,
          105.859,
          103.77483870967743,
          96.43419354838709,
          93.11166666666666,
          84.55774193548388,
          75.30199999999999,
          58.666333333333334,
          47.372258064516124,
          50.91857142857143,
          47.79322580645161,
          54.25033333333333,
          59.123548387096776,
          59.602999999999994,
          50.84516129032258,
          43.20322580645161,
          45.437,
          46.063870967741934,
          42.202,
          36.929,
          31.758709677419354,
          30.387931034482758,
          37.74225806451613,
          40.431666666666665,
          46.82548387096774,
          48.67533333333333,
          44.452903225806445,
          44.959999999999994,
          45.33533821024151
         ],
         "yaxis": "y2"
        }
       ],
       "layout": {
        "template": {
         "data": {
          "bar": [
           {
            "error_x": {
             "color": "#2a3f5f"
            },
            "error_y": {
             "color": "#2a3f5f"
            },
            "marker": {
             "line": {
              "color": "#E5ECF6",
              "width": 0.5
             },
             "pattern": {
              "fillmode": "overlay",
              "size": 10,
              "solidity": 0.2
             }
            },
            "type": "bar"
           }
          ],
          "barpolar": [
           {
            "marker": {
             "line": {
              "color": "#E5ECF6",
              "width": 0.5
             },
             "pattern": {
              "fillmode": "overlay",
              "size": 10,
              "solidity": 0.2
             }
            },
            "type": "barpolar"
           }
          ],
          "carpet": [
           {
            "aaxis": {
             "endlinecolor": "#2a3f5f",
             "gridcolor": "white",
             "linecolor": "white",
             "minorgridcolor": "white",
             "startlinecolor": "#2a3f5f"
            },
            "baxis": {
             "endlinecolor": "#2a3f5f",
             "gridcolor": "white",
             "linecolor": "white",
             "minorgridcolor": "white",
             "startlinecolor": "#2a3f5f"
            },
            "type": "carpet"
           }
          ],
          "choropleth": [
           {
            "colorbar": {
             "outlinewidth": 0,
             "ticks": ""
            },
            "type": "choropleth"
           }
          ],
          "contour": [
           {
            "colorbar": {
             "outlinewidth": 0,
             "ticks": ""
            },
            "colorscale": [
             [
              0,
              "#0d0887"
             ],
             [
              0.1111111111111111,
              "#46039f"
             ],
             [
              0.2222222222222222,
              "#7201a8"
             ],
             [
              0.3333333333333333,
              "#9c179e"
             ],
             [
              0.4444444444444444,
              "#bd3786"
             ],
             [
              0.5555555555555556,
              "#d8576b"
             ],
             [
              0.6666666666666666,
              "#ed7953"
             ],
             [
              0.7777777777777778,
              "#fb9f3a"
             ],
             [
              0.8888888888888888,
              "#fdca26"
             ],
             [
              1,
              "#f0f921"
             ]
            ],
            "type": "contour"
           }
          ],
          "contourcarpet": [
           {
            "colorbar": {
             "outlinewidth": 0,
             "ticks": ""
            },
            "type": "contourcarpet"
           }
          ],
          "heatmap": [
           {
            "colorbar": {
             "outlinewidth": 0,
             "ticks": ""
            },
            "colorscale": [
             [
              0,
              "#0d0887"
             ],
             [
              0.1111111111111111,
              "#46039f"
             ],
             [
              0.2222222222222222,
              "#7201a8"
             ],
             [
              0.3333333333333333,
              "#9c179e"
             ],
             [
              0.4444444444444444,
              "#bd3786"
             ],
             [
              0.5555555555555556,
              "#d8576b"
             ],
             [
              0.6666666666666666,
              "#ed7953"
             ],
             [
              0.7777777777777778,
              "#fb9f3a"
             ],
             [
              0.8888888888888888,
              "#fdca26"
             ],
             [
              1,
              "#f0f921"
             ]
            ],
            "type": "heatmap"
           }
          ],
          "heatmapgl": [
           {
            "colorbar": {
             "outlinewidth": 0,
             "ticks": ""
            },
            "colorscale": [
             [
              0,
              "#0d0887"
             ],
             [
              0.1111111111111111,
              "#46039f"
             ],
             [
              0.2222222222222222,
              "#7201a8"
             ],
             [
              0.3333333333333333,
              "#9c179e"
             ],
             [
              0.4444444444444444,
              "#bd3786"
             ],
             [
              0.5555555555555556,
              "#d8576b"
             ],
             [
              0.6666666666666666,
              "#ed7953"
             ],
             [
              0.7777777777777778,
              "#fb9f3a"
             ],
             [
              0.8888888888888888,
              "#fdca26"
             ],
             [
              1,
              "#f0f921"
             ]
            ],
            "type": "heatmapgl"
           }
          ],
          "histogram": [
           {
            "marker": {
             "pattern": {
              "fillmode": "overlay",
              "size": 10,
              "solidity": 0.2
             }
            },
            "type": "histogram"
           }
          ],
          "histogram2d": [
           {
            "colorbar": {
             "outlinewidth": 0,
             "ticks": ""
            },
            "colorscale": [
             [
              0,
              "#0d0887"
             ],
             [
              0.1111111111111111,
              "#46039f"
             ],
             [
              0.2222222222222222,
              "#7201a8"
             ],
             [
              0.3333333333333333,
              "#9c179e"
             ],
             [
              0.4444444444444444,
              "#bd3786"
             ],
             [
              0.5555555555555556,
              "#d8576b"
             ],
             [
              0.6666666666666666,
              "#ed7953"
             ],
             [
              0.7777777777777778,
              "#fb9f3a"
             ],
             [
              0.8888888888888888,
              "#fdca26"
             ],
             [
              1,
              "#f0f921"
             ]
            ],
            "type": "histogram2d"
           }
          ],
          "histogram2dcontour": [
           {
            "colorbar": {
             "outlinewidth": 0,
             "ticks": ""
            },
            "colorscale": [
             [
              0,
              "#0d0887"
             ],
             [
              0.1111111111111111,
              "#46039f"
             ],
             [
              0.2222222222222222,
              "#7201a8"
             ],
             [
              0.3333333333333333,
              "#9c179e"
             ],
             [
              0.4444444444444444,
              "#bd3786"
             ],
             [
              0.5555555555555556,
              "#d8576b"
             ],
             [
              0.6666666666666666,
              "#ed7953"
             ],
             [
              0.7777777777777778,
              "#fb9f3a"
             ],
             [
              0.8888888888888888,
              "#fdca26"
             ],
             [
              1,
              "#f0f921"
             ]
            ],
            "type": "histogram2dcontour"
           }
          ],
          "mesh3d": [
           {
            "colorbar": {
             "outlinewidth": 0,
             "ticks": ""
            },
            "type": "mesh3d"
           }
          ],
          "parcoords": [
           {
            "line": {
             "colorbar": {
              "outlinewidth": 0,
              "ticks": ""
             }
            },
            "type": "parcoords"
           }
          ],
          "pie": [
           {
            "automargin": true,
            "type": "pie"
           }
          ],
          "scatter": [
           {
            "fillpattern": {
             "fillmode": "overlay",
             "size": 10,
             "solidity": 0.2
            },
            "type": "scatter"
           }
          ],
          "scatter3d": [
           {
            "line": {
             "colorbar": {
              "outlinewidth": 0,
              "ticks": ""
             }
            },
            "marker": {
             "colorbar": {
              "outlinewidth": 0,
              "ticks": ""
             }
            },
            "type": "scatter3d"
           }
          ],
          "scattercarpet": [
           {
            "marker": {
             "colorbar": {
              "outlinewidth": 0,
              "ticks": ""
             }
            },
            "type": "scattercarpet"
           }
          ],
          "scattergeo": [
           {
            "marker": {
             "colorbar": {
              "outlinewidth": 0,
              "ticks": ""
             }
            },
            "type": "scattergeo"
           }
          ],
          "scattergl": [
           {
            "marker": {
             "colorbar": {
              "outlinewidth": 0,
              "ticks": ""
             }
            },
            "type": "scattergl"
           }
          ],
          "scattermapbox": [
           {
            "marker": {
             "colorbar": {
              "outlinewidth": 0,
              "ticks": ""
             }
            },
            "type": "scattermapbox"
           }
          ],
          "scatterpolar": [
           {
            "marker": {
             "colorbar": {
              "outlinewidth": 0,
              "ticks": ""
             }
            },
            "type": "scatterpolar"
           }
          ],
          "scatterpolargl": [
           {
            "marker": {
             "colorbar": {
              "outlinewidth": 0,
              "ticks": ""
             }
            },
            "type": "scatterpolargl"
           }
          ],
          "scatterternary": [
           {
            "marker": {
             "colorbar": {
              "outlinewidth": 0,
              "ticks": ""
             }
            },
            "type": "scatterternary"
           }
          ],
          "surface": [
           {
            "colorbar": {
             "outlinewidth": 0,
             "ticks": ""
            },
            "colorscale": [
             [
              0,
              "#0d0887"
             ],
             [
              0.1111111111111111,
              "#46039f"
             ],
             [
              0.2222222222222222,
              "#7201a8"
             ],
             [
              0.3333333333333333,
              "#9c179e"
             ],
             [
              0.4444444444444444,
              "#bd3786"
             ],
             [
              0.5555555555555556,
              "#d8576b"
             ],
             [
              0.6666666666666666,
              "#ed7953"
             ],
             [
              0.7777777777777778,
              "#fb9f3a"
             ],
             [
              0.8888888888888888,
              "#fdca26"
             ],
             [
              1,
              "#f0f921"
             ]
            ],
            "type": "surface"
           }
          ],
          "table": [
           {
            "cells": {
             "fill": {
              "color": "#EBF0F8"
             },
             "line": {
              "color": "white"
             }
            },
            "header": {
             "fill": {
              "color": "#C8D4E3"
             },
             "line": {
              "color": "white"
             }
            },
            "type": "table"
           }
          ]
         },
         "layout": {
          "annotationdefaults": {
           "arrowcolor": "#2a3f5f",
           "arrowhead": 0,
           "arrowwidth": 1
          },
          "autotypenumbers": "strict",
          "coloraxis": {
           "colorbar": {
            "outlinewidth": 0,
            "ticks": ""
           }
          },
          "colorscale": {
           "diverging": [
            [
             0,
             "#8e0152"
            ],
            [
             0.1,
             "#c51b7d"
            ],
            [
             0.2,
             "#de77ae"
            ],
            [
             0.3,
             "#f1b6da"
            ],
            [
             0.4,
             "#fde0ef"
            ],
            [
             0.5,
             "#f7f7f7"
            ],
            [
             0.6,
             "#e6f5d0"
            ],
            [
             0.7,
             "#b8e186"
            ],
            [
             0.8,
             "#7fbc41"
            ],
            [
             0.9,
             "#4d9221"
            ],
            [
             1,
             "#276419"
            ]
           ],
           "sequential": [
            [
             0,
             "#0d0887"
            ],
            [
             0.1111111111111111,
             "#46039f"
            ],
            [
             0.2222222222222222,
             "#7201a8"
            ],
            [
             0.3333333333333333,
             "#9c179e"
            ],
            [
             0.4444444444444444,
             "#bd3786"
            ],
            [
             0.5555555555555556,
             "#d8576b"
            ],
            [
             0.6666666666666666,
             "#ed7953"
            ],
            [
             0.7777777777777778,
             "#fb9f3a"
            ],
            [
             0.8888888888888888,
             "#fdca26"
            ],
            [
             1,
             "#f0f921"
            ]
           ],
           "sequentialminus": [
            [
             0,
             "#0d0887"
            ],
            [
             0.1111111111111111,
             "#46039f"
            ],
            [
             0.2222222222222222,
             "#7201a8"
            ],
            [
             0.3333333333333333,
             "#9c179e"
            ],
            [
             0.4444444444444444,
             "#bd3786"
            ],
            [
             0.5555555555555556,
             "#d8576b"
            ],
            [
             0.6666666666666666,
             "#ed7953"
            ],
            [
             0.7777777777777778,
             "#fb9f3a"
            ],
            [
             0.8888888888888888,
             "#fdca26"
            ],
            [
             1,
             "#f0f921"
            ]
           ]
          },
          "colorway": [
           "#636efa",
           "#EF553B",
           "#00cc96",
           "#ab63fa",
           "#FFA15A",
           "#19d3f3",
           "#FF6692",
           "#B6E880",
           "#FF97FF",
           "#FECB52"
          ],
          "font": {
           "color": "#2a3f5f"
          },
          "geo": {
           "bgcolor": "white",
           "lakecolor": "white",
           "landcolor": "#E5ECF6",
           "showlakes": true,
           "showland": true,
           "subunitcolor": "white"
          },
          "hoverlabel": {
           "align": "left"
          },
          "hovermode": "closest",
          "mapbox": {
           "style": "light"
          },
          "paper_bgcolor": "white",
          "plot_bgcolor": "#E5ECF6",
          "polar": {
           "angularaxis": {
            "gridcolor": "white",
            "linecolor": "white",
            "ticks": ""
           },
           "bgcolor": "#E5ECF6",
           "radialaxis": {
            "gridcolor": "white",
            "linecolor": "white",
            "ticks": ""
           }
          },
          "scene": {
           "xaxis": {
            "backgroundcolor": "#E5ECF6",
            "gridcolor": "white",
            "gridwidth": 2,
            "linecolor": "white",
            "showbackground": true,
            "ticks": "",
            "zerolinecolor": "white"
           },
           "yaxis": {
            "backgroundcolor": "#E5ECF6",
            "gridcolor": "white",
            "gridwidth": 2,
            "linecolor": "white",
            "showbackground": true,
            "ticks": "",
            "zerolinecolor": "white"
           },
           "zaxis": {
            "backgroundcolor": "#E5ECF6",
            "gridcolor": "white",
            "gridwidth": 2,
            "linecolor": "white",
            "showbackground": true,
            "ticks": "",
            "zerolinecolor": "white"
           }
          },
          "shapedefaults": {
           "line": {
            "color": "#2a3f5f"
           }
          },
          "ternary": {
           "aaxis": {
            "gridcolor": "white",
            "linecolor": "white",
            "ticks": ""
           },
           "baxis": {
            "gridcolor": "white",
            "linecolor": "white",
            "ticks": ""
           },
           "bgcolor": "#E5ECF6",
           "caxis": {
            "gridcolor": "white",
            "linecolor": "white",
            "ticks": ""
           }
          },
          "title": {
           "x": 0.05
          },
          "xaxis": {
           "automargin": true,
           "gridcolor": "white",
           "linecolor": "white",
           "ticks": "",
           "title": {
            "standoff": 15
           },
           "zerolinecolor": "white",
           "zerolinewidth": 2
          },
          "yaxis": {
           "automargin": true,
           "gridcolor": "white",
           "linecolor": "white",
           "ticks": "",
           "title": {
            "standoff": 15
           },
           "zerolinecolor": "white",
           "zerolinewidth": 2
          }
         }
        },
        "title": {
         "text": "Average Sales and Mean Oil Prices per Month"
        },
        "xaxis": {
         "anchor": "y",
         "domain": [
          0,
          0.94
         ],
         "title": {
          "text": "Month"
         }
        },
        "yaxis": {
         "anchor": "x",
         "domain": [
          0,
          1
         ],
         "title": {
          "text": "Average Sales"
         }
        },
        "yaxis2": {
         "anchor": "x",
         "overlaying": "y",
         "side": "right",
         "title": {
          "text": "Mean Oil Price"
         }
        }
       }
      }
     },
     "metadata": {},
     "output_type": "display_data"
    }
   ],
   "source": [
    "train_data['year_month'] = pd.to_datetime(train_data['date']).dt.to_period('M')\n",
    "monthly_sales_summary = train_data.groupby('year_month')['item_sales'].mean().reset_index()\n",
    "monthly_sales_summary['year_month'] = monthly_sales_summary['year_month'].dt.to_timestamp()\n",
    "\n",
    "monthly_oil_price_summary = train_data.groupby('year_month')['oil_price'].mean().reset_index()\n",
    "monthly_oil_price_summary['year_month'] = monthly_oil_price_summary['year_month'].dt.to_timestamp()\n",
    "\n",
    "fig = make_subplots(specs=[[{\"secondary_y\": True}]])\n",
    "\n",
    "fig.add_trace(\n",
    "    go.Scatter(x=monthly_sales_summary['year_month'], y=monthly_sales_summary['item_sales'], name='Average Sales', line=dict(color='blue')),\n",
    "    secondary_y=False,\n",
    ")\n",
    "\n",
    "fig.add_trace(\n",
    "    go.Scatter(x=monthly_oil_price_summary['year_month'], y=monthly_oil_price_summary['oil_price'], name='Mean Oil Price', line=dict(color='black')),\n",
    "    secondary_y=True,\n",
    ")\n",
    "\n",
    "fig.update_layout(\n",
    "    title_text='Average Sales and Mean Oil Prices per Month',\n",
    "    xaxis_title='Month',\n",
    ")\n",
    "\n",
    "fig.update_yaxes(title_text='Average Sales', secondary_y=False)\n",
    "fig.update_yaxes(title_text='Mean Oil Price', secondary_y=True)\n",
    "\n",
    "fig.show()"
   ]
  },
  {
   "cell_type": "markdown",
   "metadata": {},
   "source": [
    "#### As you can see the sales are jumping very hard, difficult to see a distinct trend or seasonality except for the December's prices rising \n",
    "\n",
    "#### There are obviously 2 double oil price losses within just 6 months (July 2014 - January 2015 and June 2015 - February 2016)"
   ]
  },
  {
   "cell_type": "markdown",
   "metadata": {},
   "source": [
    "### Now let's see mean sales for all day types"
   ]
  },
  {
   "cell_type": "code",
   "execution_count": 21,
   "metadata": {},
   "outputs": [
    {
     "data": {
      "image/png": "[encoded data removed]",
      "text/plain": [
       "<Figure size 1200x600 with 1 Axes>"
      ]
     },
     "metadata": {},
     "output_type": "display_data"
    }
   ],
   "source": [
    "day_types_sales_summary = train_data.groupby('day_type')['item_sales'].mean().reset_index().sort_values(by='item_sales', ascending=False)\n",
    "\n",
    "plt.figure(figsize=(12, 6))\n",
    "sns.barplot(data=day_types_sales_summary, x='day_type', y='item_sales', hue='day_type', dodge=False, palette='viridis', legend=False)\n",
    "plt.xlabel('Day type')\n",
    "plt.ylabel('Average sales')\n",
    "plt.title(\"Day types' average sales\")\n",
    "plt.show()"
   ]
  },
  {
   "cell_type": "markdown",
   "metadata": {},
   "source": [
    "#### It's visible that average sales are slightly higher on \"special\" non-working days (Additional, Bridge, Transfer holidays or days with events)"
   ]
  },
  {
   "cell_type": "markdown",
   "metadata": {},
   "source": [
    "### Now let's check sales depending on holidays' features"
   ]
  },
  {
   "cell_type": "code",
   "execution_count": 22,
   "metadata": {},
   "outputs": [
    {
     "data": {
      "image/png": "[encoded data removed]",
      "text/plain": [
       "<Figure size 1200x600 with 1 Axes>"
      ]
     },
     "metadata": {},
     "output_type": "display_data"
    }
   ],
   "source": [
    "holiday_status_sales_summary = train_data.groupby('holiday_status')['item_sales'].mean().reset_index().sort_values(by='item_sales', ascending=False)\n",
    "\n",
    "plt.figure(figsize=(12, 6))\n",
    "sns.barplot(data=holiday_status_sales_summary, x='holiday_status', y='item_sales', hue='holiday_status', dodge=False, palette='viridis', legend=False)\n",
    "plt.xlabel('holiday_status')\n",
    "plt.ylabel('Average sales')\n",
    "plt.title(\"Holiday status' average sales\")\n",
    "plt.ylim(300)\n",
    "plt.show()"
   ]
  },
  {
   "cell_type": "markdown",
   "metadata": {},
   "source": [
    "#### As you can see average sales are 20% higher on those holidays which are National ones, while for other types of holidays(Local, Regional) they are almost as on usual days"
   ]
  },
  {
   "cell_type": "code",
   "execution_count": 23,
   "metadata": {},
   "outputs": [
    {
     "data": {
      "image/png": "[encoded data removed]",
      "text/plain": [
       "<Figure size 1200x600 with 1 Axes>"
      ]
     },
     "metadata": {},
     "output_type": "display_data"
    }
   ],
   "source": [
    "holiday_location_sales_summary = train_data.groupby('holiday_location')['item_sales'].mean().reset_index().sort_values(by='item_sales', ascending=False)\n",
    "\n",
    "plt.figure(figsize=(12, 6))\n",
    "sns.barplot(data=holiday_location_sales_summary, x='holiday_location', y='item_sales', hue='holiday_location', dodge=False, palette='viridis', legend=False)\n",
    "plt.xlabel('Holiday location')\n",
    "plt.ylabel('Average sales')\n",
    "plt.title(\"Holiday locations' average sales\")\n",
    "plt.xticks(rotation=90)\n",
    "plt.show()"
   ]
  },
  {
   "cell_type": "markdown",
   "metadata": {},
   "source": [
    "#### It's visible that average sales are distributed more or less uniformly among different holidays' locations"
   ]
  },
  {
   "cell_type": "code",
   "execution_count": 24,
   "metadata": {},
   "outputs": [
    {
     "data": {
      "image/png": "[encoded data removed]",
      "text/plain": [
       "<Figure size 2000x600 with 1 Axes>"
      ]
     },
     "metadata": {},
     "output_type": "display_data"
    }
   ],
   "source": [
    "holiday_description_sales_summary = train_data.groupby('holiday_description')['item_sales'].mean().reset_index().sort_values(by='item_sales', ascending=False)\n",
    "\n",
    "plt.figure(figsize=(20, 6))\n",
    "sns.barplot(data=holiday_description_sales_summary, x='holiday_description', y='item_sales', hue='holiday_description', dodge=False, palette='viridis', legend=False)\n",
    "plt.xlabel('Holiday description')\n",
    "plt.ylabel('Average sales')\n",
    "plt.title(\"Holiday descriptions' average sales\")\n",
    "plt.xticks(rotation=90)\n",
    "plt.show()"
   ]
  },
  {
   "cell_type": "markdown",
   "metadata": {},
   "source": [
    "#### There was an earthquake in Equador on April 16, 2016 that affected sales. As you can see, sales rose up significantly within first days after the catastrophe (Terremoto Manabi +n columns where n means number of days passed after the earthquake)\n",
    "\n",
    "\n",
    "### Now let's vizualize data for such days only"
   ]
  },
  {
   "cell_type": "code",
   "execution_count": 25,
   "metadata": {},
   "outputs": [
    {
     "name": "stderr",
     "output_type": "stream",
     "text": [
      "/var/folders/sv/rfynv7hs7_ndkp9bwt1tr_t40000gn/T/ipykernel_37602/2058009556.py:11: SettingWithCopyWarning:\n",
      "\n",
      "\n",
      "A value is trying to be set on a copy of a slice from a DataFrame.\n",
      "Try using .loc[row_indexer,col_indexer] = value instead\n",
      "\n",
      "See the caveats in the documentation: https://pandas.pydata.org/pandas-docs/stable/user_guide/indexing.html#returning-a-view-versus-a-copy\n",
      "\n"
     ]
    },
    {
     "data": {
      "image/png": "[encoded data removed]",
      "text/plain": [
       "<Figure size 2000x600 with 1 Axes>"
      ]
     },
     "metadata": {},
     "output_type": "display_data"
    }
   ],
   "source": [
    "holiday_description_sales_summary = train_data.groupby('holiday_description')['item_sales'].mean().reset_index()\n",
    "filtered_summary = holiday_description_sales_summary[holiday_description_sales_summary['holiday_description'].str.startswith('Terremoto Manabi')]\n",
    "\n",
    "def extract_number(description):\n",
    "    match = re.search(r'\\d+', description)\n",
    "    if match:\n",
    "        return int(match.group())\n",
    "    else:\n",
    "        return 0  \n",
    "\n",
    "filtered_summary['n'] = filtered_summary['holiday_description'].apply(extract_number)\n",
    "filtered_summary = filtered_summary.sort_values(by='n')\n",
    "\n",
    "plt.figure(figsize=(20, 6))\n",
    "sns.barplot(data=filtered_summary, x='holiday_description', y='item_sales', hue='holiday_description', dodge=False, palette='viridis', legend=False)\n",
    "plt.xlabel('Holiday Description')\n",
    "plt.ylabel('Average Sales')\n",
    "plt.title(\"Holiday Descriptions' Average Sales (Starting with 'Teremoto Manabi')\")\n",
    "plt.xticks(rotation=90)\n",
    "plt.show()"
   ]
  },
  {
   "cell_type": "code",
   "execution_count": 26,
   "metadata": {},
   "outputs": [
    {
     "data": {
      "application/vnd.plotly.v1+json": {
       "config": {
        "plotlyServerURL": "https://plot.ly"
       },
       "data": [
        {
         "mode": "lines",
         "name": "Store 45, Family BEAUTY",
         "type": "scatter",
         "x": [
          "2013-01-01T00:00:00",
          "2013-02-01T00:00:00",
          "2013-03-01T00:00:00",
          "2013-04-01T00:00:00",
          "2013-05-01T00:00:00",
          "2013-06-01T00:00:00",
          "2013-07-01T00:00:00",
          "2013-08-01T00:00:00",
          "2013-09-01T00:00:00",
          "2013-10-01T00:00:00",
          "2013-11-01T00:00:00",
          "2013-12-01T00:00:00",
          "2014-01-01T00:00:00",
          "2014-02-01T00:00:00",
          "2014-03-01T00:00:00",
          "2014-04-01T00:00:00",
          "2014-05-01T00:00:00",
          "2014-06-01T00:00:00",
          "2014-07-01T00:00:00",
          "2014-08-01T00:00:00",
          "2014-09-01T00:00:00",
          "2014-10-01T00:00:00",
          "2014-11-01T00:00:00",
          "2014-12-01T00:00:00",
          "2015-01-01T00:00:00",
          "2015-02-01T00:00:00",
          "2015-03-01T00:00:00",
          "2015-04-01T00:00:00",
          "2015-05-01T00:00:00",
          "2015-06-01T00:00:00",
          "2015-07-01T00:00:00",
          "2015-08-01T00:00:00",
          "2015-09-01T00:00:00",
          "2015-10-01T00:00:00",
          "2015-11-01T00:00:00",
          "2015-12-01T00:00:00",
          "2016-01-01T00:00:00",
          "2016-02-01T00:00:00",
          "2016-03-01T00:00:00",
          "2016-04-01T00:00:00",
          "2016-05-01T00:00:00",
          "2016-06-01T00:00:00",
          "2016-07-01T00:00:00",
          "2016-08-01T00:00:00",
          "2016-09-01T00:00:00"
         ],
         "y": [
          7.774193548387097,
          7.392857142857143,
          7,
          6.433333333333334,
          5.67741935483871,
          8.033333333333333,
          9.548387096774194,
          9.580645161290322,
          6.6,
          7.612903225806452,
          7.7,
          8.4,
          6.451612903225806,
          6.285714285714286,
          8.35483870967742,
          6.133333333333334,
          6.612903225806452,
          6.533333333333333,
          8.193548387096774,
          9.129032258064516,
          7.466666666666667,
          7.225806451612903,
          7.266666666666667,
          9.7,
          6.290322580645161,
          10.357142857142858,
          7.354838709677419,
          6.366666666666666,
          9.258064516129032,
          8.933333333333334,
          6.645161290322581,
          8.806451612903226,
          8.233333333333333,
          9.290322580645162,
          11.066666666666666,
          13.633333333333333,
          14.064516129032258,
          11.862068965517242,
          10.32258064516129,
          13.5,
          12.290322580645162,
          9.466666666666667,
          12.387096774193548,
          12.96774193548387,
          16.818181818181817
         ]
        },
        {
         "mode": "lines",
         "name": "Store 1, Family EGGS",
         "type": "scatter",
         "x": [
          "2013-01-01T00:00:00",
          "2013-02-01T00:00:00",
          "2013-03-01T00:00:00",
          "2013-04-01T00:00:00",
          "2013-05-01T00:00:00",
          "2013-06-01T00:00:00",
          "2013-07-01T00:00:00",
          "2013-08-01T00:00:00",
          "2013-09-01T00:00:00",
          "2013-10-01T00:00:00",
          "2013-11-01T00:00:00",
          "2013-12-01T00:00:00",
          "2014-01-01T00:00:00",
          "2014-02-01T00:00:00",
          "2014-03-01T00:00:00",
          "2014-04-01T00:00:00",
          "2014-05-01T00:00:00",
          "2014-06-01T00:00:00",
          "2014-07-01T00:00:00",
          "2014-08-01T00:00:00",
          "2014-09-01T00:00:00",
          "2014-10-01T00:00:00",
          "2014-11-01T00:00:00",
          "2014-12-01T00:00:00",
          "2015-01-01T00:00:00",
          "2015-02-01T00:00:00",
          "2015-03-01T00:00:00",
          "2015-04-01T00:00:00",
          "2015-05-01T00:00:00",
          "2015-06-01T00:00:00",
          "2015-07-01T00:00:00",
          "2015-08-01T00:00:00",
          "2015-09-01T00:00:00",
          "2015-10-01T00:00:00",
          "2015-11-01T00:00:00",
          "2015-12-01T00:00:00",
          "2016-01-01T00:00:00",
          "2016-02-01T00:00:00",
          "2016-03-01T00:00:00",
          "2016-04-01T00:00:00",
          "2016-05-01T00:00:00",
          "2016-06-01T00:00:00",
          "2016-07-01T00:00:00",
          "2016-08-01T00:00:00",
          "2016-09-01T00:00:00"
         ],
         "y": [
          147.51612903225808,
          138.78571428571428,
          146.70967741935485,
          151.5,
          144.06451612903226,
          144.3,
          145.16129032258064,
          128.7741935483871,
          132.96666666666667,
          142.4516129032258,
          139.96666666666667,
          133.8,
          154.03225806451613,
          146.67857142857142,
          148.80645161290323,
          147,
          143.58064516129033,
          140.43333333333334,
          140.90322580645162,
          134.80645161290323,
          150.56666666666666,
          151.32258064516128,
          140.93333333333334,
          139.7,
          144.61290322580646,
          141.75,
          145.96774193548387,
          141.9,
          145.67741935483872,
          151.4,
          143.8709677419355,
          136.80645161290323,
          142.4,
          139.58064516129033,
          132.7,
          141,
          142.48387096774192,
          140.9655172413793,
          142.7741935483871,
          140.93333333333334,
          133.67741935483872,
          130.66666666666666,
          133.6451612903226,
          123.41935483870968,
          128.58333333333334
         ]
        },
        {
         "mode": "lines",
         "name": "Store 30, Family BREAD/BAKERY",
         "type": "scatter",
         "x": [
          "2013-01-01T00:00:00",
          "2013-02-01T00:00:00",
          "2013-03-01T00:00:00",
          "2013-04-01T00:00:00",
          "2013-05-01T00:00:00",
          "2013-06-01T00:00:00",
          "2013-07-01T00:00:00",
          "2013-08-01T00:00:00",
          "2013-09-01T00:00:00",
          "2013-10-01T00:00:00",
          "2013-11-01T00:00:00",
          "2013-12-01T00:00:00",
          "2014-01-01T00:00:00",
          "2014-02-01T00:00:00",
          "2014-03-01T00:00:00",
          "2014-04-01T00:00:00",
          "2014-05-01T00:00:00",
          "2014-06-01T00:00:00",
          "2014-07-01T00:00:00",
          "2014-08-01T00:00:00",
          "2014-09-01T00:00:00",
          "2014-10-01T00:00:00",
          "2014-11-01T00:00:00",
          "2014-12-01T00:00:00",
          "2015-01-01T00:00:00",
          "2015-02-01T00:00:00",
          "2015-03-01T00:00:00",
          "2015-04-01T00:00:00",
          "2015-05-01T00:00:00",
          "2015-06-01T00:00:00",
          "2015-07-01T00:00:00",
          "2015-08-01T00:00:00",
          "2015-09-01T00:00:00",
          "2015-10-01T00:00:00",
          "2015-11-01T00:00:00",
          "2015-12-01T00:00:00",
          "2016-01-01T00:00:00",
          "2016-02-01T00:00:00",
          "2016-03-01T00:00:00",
          "2016-04-01T00:00:00",
          "2016-05-01T00:00:00",
          "2016-06-01T00:00:00",
          "2016-07-01T00:00:00",
          "2016-08-01T00:00:00",
          "2016-09-01T00:00:00"
         ],
         "y": [
          115.38709677419355,
          105.92857142857143,
          110.2258064516129,
          119.9,
          142.51612903225808,
          163.43333333333334,
          38.516129032258064,
          158.96774193548387,
          159.36666666666667,
          145.93548387096774,
          139.96666666666667,
          158.6,
          145.7741935483871,
          144.53571428571428,
          112.74193548387096,
          117.33333333333333,
          152.74193548387098,
          156.86666666666667,
          180.5483870967742,
          182.03225806451613,
          200.03333333333333,
          156.3548387096774,
          165.63333333333333,
          178.46666666666667,
          163.74193548387098,
          170.60714285714286,
          149.61290322580646,
          141.43333333333334,
          168.09677419354838,
          174.73333333333332,
          168.1290322580645,
          172,
          158.2,
          149.96774193548387,
          158.13333333333333,
          179.4,
          163.32258064516128,
          148.55172413793105,
          149.03225806451613,
          170.26666666666668,
          164.58064516129033,
          172.2,
          174.4516129032258,
          161,
          179.54545454545453
         ]
        },
        {
         "mode": "lines",
         "name": "Store 33, Family CLEANING",
         "type": "scatter",
         "x": [
          "2013-01-01T00:00:00",
          "2013-02-01T00:00:00",
          "2013-03-01T00:00:00",
          "2013-04-01T00:00:00",
          "2013-05-01T00:00:00",
          "2013-06-01T00:00:00",
          "2013-07-01T00:00:00",
          "2013-08-01T00:00:00",
          "2013-09-01T00:00:00",
          "2013-10-01T00:00:00",
          "2013-11-01T00:00:00",
          "2013-12-01T00:00:00",
          "2014-01-01T00:00:00",
          "2014-02-01T00:00:00",
          "2014-03-01T00:00:00",
          "2014-04-01T00:00:00",
          "2014-05-01T00:00:00",
          "2014-06-01T00:00:00",
          "2014-07-01T00:00:00",
          "2014-08-01T00:00:00",
          "2014-09-01T00:00:00",
          "2014-10-01T00:00:00",
          "2014-11-01T00:00:00",
          "2014-12-01T00:00:00",
          "2015-01-01T00:00:00",
          "2015-02-01T00:00:00",
          "2015-03-01T00:00:00",
          "2015-04-01T00:00:00",
          "2015-05-01T00:00:00",
          "2015-06-01T00:00:00",
          "2015-07-01T00:00:00",
          "2015-08-01T00:00:00",
          "2015-09-01T00:00:00",
          "2015-10-01T00:00:00",
          "2015-11-01T00:00:00",
          "2015-12-01T00:00:00",
          "2016-01-01T00:00:00",
          "2016-02-01T00:00:00",
          "2016-03-01T00:00:00",
          "2016-04-01T00:00:00",
          "2016-05-01T00:00:00",
          "2016-06-01T00:00:00",
          "2016-07-01T00:00:00",
          "2016-08-01T00:00:00",
          "2016-09-01T00:00:00"
         ],
         "y": [
          871.741935483871,
          924.3571428571429,
          960.1612903225806,
          963.7333333333333,
          962.2903225806451,
          1002.3666666666667,
          955.483870967742,
          950.7096774193549,
          908.2,
          872.3548387096774,
          917.3333333333334,
          1142.2666666666667,
          1056.258064516129,
          1053.9642857142858,
          1256.6451612903227,
          951.7333333333333,
          977.0322580645161,
          997.6333333333333,
          1177.483870967742,
          1057.4193548387098,
          1193.9,
          1149.2903225806451,
          1270.1666666666667,
          1389.1,
          1201.1290322580646,
          1200.7857142857142,
          1214.1612903225807,
          1219.9666666666667,
          1220.258064516129,
          1164.2,
          1172.6774193548388,
          1166.516129032258,
          1167.2666666666667,
          1087.2903225806451,
          1065.0666666666666,
          1265.1666666666667,
          1123.967741935484,
          1091.7586206896551,
          1031.5806451612902,
          1080.7,
          1068,
          966.4666666666667,
          1014.6129032258065,
          932.8064516129032,
          1099
         ]
        },
        {
         "mode": "lines",
         "name": "Store 10, Family HOME CARE",
         "type": "scatter",
         "x": [
          "2013-01-01T00:00:00",
          "2013-02-01T00:00:00",
          "2013-03-01T00:00:00",
          "2013-04-01T00:00:00",
          "2013-05-01T00:00:00",
          "2013-06-01T00:00:00",
          "2013-07-01T00:00:00",
          "2013-08-01T00:00:00",
          "2013-09-01T00:00:00",
          "2013-10-01T00:00:00",
          "2013-11-01T00:00:00",
          "2013-12-01T00:00:00",
          "2014-01-01T00:00:00",
          "2014-02-01T00:00:00",
          "2014-03-01T00:00:00",
          "2014-04-01T00:00:00",
          "2014-05-01T00:00:00",
          "2014-06-01T00:00:00",
          "2014-07-01T00:00:00",
          "2014-08-01T00:00:00",
          "2014-09-01T00:00:00",
          "2014-10-01T00:00:00",
          "2014-11-01T00:00:00",
          "2014-12-01T00:00:00",
          "2015-01-01T00:00:00",
          "2015-02-01T00:00:00",
          "2015-03-01T00:00:00",
          "2015-04-01T00:00:00",
          "2015-05-01T00:00:00",
          "2015-06-01T00:00:00",
          "2015-07-01T00:00:00",
          "2015-08-01T00:00:00",
          "2015-09-01T00:00:00",
          "2015-10-01T00:00:00",
          "2015-11-01T00:00:00",
          "2015-12-01T00:00:00",
          "2016-01-01T00:00:00",
          "2016-02-01T00:00:00",
          "2016-03-01T00:00:00",
          "2016-04-01T00:00:00",
          "2016-05-01T00:00:00",
          "2016-06-01T00:00:00",
          "2016-07-01T00:00:00",
          "2016-08-01T00:00:00",
          "2016-09-01T00:00:00"
         ],
         "y": [
          0,
          0,
          0,
          0,
          0,
          0,
          0,
          0,
          0,
          0,
          0,
          0,
          217.83870967741936,
          0,
          218.67741935483872,
          0,
          0,
          0,
          228.16129032258064,
          0,
          247.4,
          193.58064516129033,
          203.6,
          238.43333333333334,
          0,
          0,
          0,
          0,
          169.51612903225808,
          189.6,
          186.51612903225808,
          197.06451612903226,
          215.4,
          183.51612903225808,
          176.16666666666666,
          222.63333333333333,
          187.19354838709677,
          173.58620689655172,
          179.74193548387098,
          215.13333333333333,
          181.1290322580645,
          163.83333333333334,
          177.06451612903226,
          184.4516129032258,
          251.41666666666666
         ]
        },
        {
         "mode": "lines",
         "name": "Store 32, Family CLEANING",
         "type": "scatter",
         "x": [
          "2013-01-01T00:00:00",
          "2013-02-01T00:00:00",
          "2013-03-01T00:00:00",
          "2013-04-01T00:00:00",
          "2013-05-01T00:00:00",
          "2013-06-01T00:00:00",
          "2013-07-01T00:00:00",
          "2013-08-01T00:00:00",
          "2013-09-01T00:00:00",
          "2013-10-01T00:00:00",
          "2013-11-01T00:00:00",
          "2013-12-01T00:00:00",
          "2014-01-01T00:00:00",
          "2014-02-01T00:00:00",
          "2014-03-01T00:00:00",
          "2014-04-01T00:00:00",
          "2014-05-01T00:00:00",
          "2014-06-01T00:00:00",
          "2014-07-01T00:00:00",
          "2014-08-01T00:00:00",
          "2014-09-01T00:00:00",
          "2014-10-01T00:00:00",
          "2014-11-01T00:00:00",
          "2014-12-01T00:00:00",
          "2015-01-01T00:00:00",
          "2015-02-01T00:00:00",
          "2015-03-01T00:00:00",
          "2015-04-01T00:00:00",
          "2015-05-01T00:00:00",
          "2015-06-01T00:00:00",
          "2015-07-01T00:00:00",
          "2015-08-01T00:00:00",
          "2015-09-01T00:00:00",
          "2015-10-01T00:00:00",
          "2015-11-01T00:00:00",
          "2015-12-01T00:00:00",
          "2016-01-01T00:00:00",
          "2016-02-01T00:00:00",
          "2016-03-01T00:00:00",
          "2016-04-01T00:00:00",
          "2016-05-01T00:00:00",
          "2016-06-01T00:00:00",
          "2016-07-01T00:00:00",
          "2016-08-01T00:00:00",
          "2016-09-01T00:00:00"
         ],
         "y": [
          396.6774193548387,
          436.07142857142856,
          449.2258064516129,
          420.93333333333334,
          402.80645161290323,
          410.1,
          389.4193548387097,
          389.38709677419354,
          359.1,
          338.35483870967744,
          359.76666666666665,
          451.76666666666665,
          347.80645161290323,
          379.60714285714283,
          433.61290322580646,
          349.06666666666666,
          366.06451612903226,
          317.7,
          392,
          359.741935483871,
          414.06666666666666,
          374.8709677419355,
          417.4,
          505.73333333333335,
          418.4516129032258,
          452.39285714285717,
          450.0967741935484,
          451.23333333333335,
          442.258064516129,
          414.93333333333334,
          414.7741935483871,
          412.258064516129,
          433.6333333333333,
          411.83870967741933,
          379.3,
          482.8333333333333,
          414.5806451612903,
          468.3103448275862,
          415.1290322580645,
          458.6,
          407.64516129032256,
          401.76666666666665,
          394.64516129032256,
          415.3225806451613,
          484.90909090909093
         ]
        },
        {
         "mode": "lines",
         "name": "Store 15, Family PET SUPPLIES",
         "type": "scatter",
         "x": [
          "2013-01-01T00:00:00",
          "2013-02-01T00:00:00",
          "2013-03-01T00:00:00",
          "2013-04-01T00:00:00",
          "2013-05-01T00:00:00",
          "2013-06-01T00:00:00",
          "2013-07-01T00:00:00",
          "2013-08-01T00:00:00",
          "2013-09-01T00:00:00",
          "2013-10-01T00:00:00",
          "2013-11-01T00:00:00",
          "2013-12-01T00:00:00",
          "2014-01-01T00:00:00",
          "2014-02-01T00:00:00",
          "2014-03-01T00:00:00",
          "2014-04-01T00:00:00",
          "2014-05-01T00:00:00",
          "2014-06-01T00:00:00",
          "2014-07-01T00:00:00",
          "2014-08-01T00:00:00",
          "2014-09-01T00:00:00",
          "2014-10-01T00:00:00",
          "2014-11-01T00:00:00",
          "2014-12-01T00:00:00",
          "2015-01-01T00:00:00",
          "2015-02-01T00:00:00",
          "2015-03-01T00:00:00",
          "2015-04-01T00:00:00",
          "2015-05-01T00:00:00",
          "2015-06-01T00:00:00",
          "2015-07-01T00:00:00",
          "2015-08-01T00:00:00",
          "2015-09-01T00:00:00",
          "2015-10-01T00:00:00",
          "2015-11-01T00:00:00",
          "2015-12-01T00:00:00",
          "2016-01-01T00:00:00",
          "2016-02-01T00:00:00",
          "2016-03-01T00:00:00",
          "2016-04-01T00:00:00",
          "2016-05-01T00:00:00",
          "2016-06-01T00:00:00",
          "2016-07-01T00:00:00",
          "2016-08-01T00:00:00",
          "2016-09-01T00:00:00"
         ],
         "y": [
          0,
          0,
          0,
          0,
          0,
          0,
          0,
          0,
          0,
          0,
          0,
          0,
          0.06451612903225806,
          0,
          0.2903225806451613,
          0,
          0,
          0,
          0.3870967741935484,
          0,
          0.23333333333333334,
          0.3225806451612903,
          0.6333333333333333,
          0.7333333333333333,
          0,
          0,
          0,
          0,
          0,
          0.3333333333333333,
          0.06451612903225806,
          0.0967741935483871,
          0.23333333333333334,
          0.25806451612903225,
          0.26666666666666666,
          0.3,
          0.22580645161290322,
          0.27586206896551724,
          0.5161290322580645,
          0.5333333333333333,
          0.22580645161290322,
          0.6,
          0.4838709677419355,
          0.7419354838709677,
          0.4166666666666667
         ]
        },
        {
         "mode": "lines",
         "name": "Store 29, Family HOME AND KITCHEN I",
         "type": "scatter",
         "x": [
          "2013-01-01T00:00:00",
          "2013-02-01T00:00:00",
          "2013-03-01T00:00:00",
          "2013-04-01T00:00:00",
          "2013-05-01T00:00:00",
          "2013-06-01T00:00:00",
          "2013-07-01T00:00:00",
          "2013-08-01T00:00:00",
          "2013-09-01T00:00:00",
          "2013-10-01T00:00:00",
          "2013-11-01T00:00:00",
          "2013-12-01T00:00:00",
          "2014-01-01T00:00:00",
          "2014-02-01T00:00:00",
          "2014-03-01T00:00:00",
          "2014-04-01T00:00:00",
          "2014-05-01T00:00:00",
          "2014-06-01T00:00:00",
          "2014-07-01T00:00:00",
          "2014-08-01T00:00:00",
          "2014-09-01T00:00:00",
          "2014-10-01T00:00:00",
          "2014-11-01T00:00:00",
          "2014-12-01T00:00:00",
          "2015-01-01T00:00:00",
          "2015-02-01T00:00:00",
          "2015-03-01T00:00:00",
          "2015-04-01T00:00:00",
          "2015-05-01T00:00:00",
          "2015-06-01T00:00:00",
          "2015-07-01T00:00:00",
          "2015-08-01T00:00:00",
          "2015-09-01T00:00:00",
          "2015-10-01T00:00:00",
          "2015-11-01T00:00:00",
          "2015-12-01T00:00:00",
          "2016-01-01T00:00:00",
          "2016-02-01T00:00:00",
          "2016-03-01T00:00:00",
          "2016-04-01T00:00:00",
          "2016-05-01T00:00:00",
          "2016-06-01T00:00:00",
          "2016-07-01T00:00:00",
          "2016-08-01T00:00:00",
          "2016-09-01T00:00:00"
         ],
         "y": [
          0,
          0,
          0,
          0,
          0,
          0,
          0,
          0,
          0,
          0,
          0,
          0,
          0,
          0,
          0,
          0,
          0,
          0,
          0,
          0,
          0,
          0,
          0,
          0,
          0,
          0,
          10.580645161290322,
          23.1,
          17.516129032258064,
          18.266666666666666,
          18.258064516129032,
          21,
          14.566666666666666,
          21.806451612903224,
          22.9,
          26.066666666666666,
          19.06451612903226,
          19.275862068965516,
          25.193548387096776,
          19.866666666666667,
          33.193548387096776,
          29.266666666666666,
          30.129032258064516,
          31.516129032258064,
          31.727272727272727
         ]
        },
        {
         "mode": "lines",
         "name": "Store 14, Family LINGERIE",
         "type": "scatter",
         "x": [
          "2013-01-01T00:00:00",
          "2013-02-01T00:00:00",
          "2013-03-01T00:00:00",
          "2013-04-01T00:00:00",
          "2013-05-01T00:00:00",
          "2013-06-01T00:00:00",
          "2013-07-01T00:00:00",
          "2013-08-01T00:00:00",
          "2013-09-01T00:00:00",
          "2013-10-01T00:00:00",
          "2013-11-01T00:00:00",
          "2013-12-01T00:00:00",
          "2014-01-01T00:00:00",
          "2014-02-01T00:00:00",
          "2014-03-01T00:00:00",
          "2014-04-01T00:00:00",
          "2014-05-01T00:00:00",
          "2014-06-01T00:00:00",
          "2014-07-01T00:00:00",
          "2014-08-01T00:00:00",
          "2014-09-01T00:00:00",
          "2014-10-01T00:00:00",
          "2014-11-01T00:00:00",
          "2014-12-01T00:00:00",
          "2015-01-01T00:00:00",
          "2015-02-01T00:00:00",
          "2015-03-01T00:00:00",
          "2015-04-01T00:00:00",
          "2015-05-01T00:00:00",
          "2015-06-01T00:00:00",
          "2015-07-01T00:00:00",
          "2015-08-01T00:00:00",
          "2015-09-01T00:00:00",
          "2015-10-01T00:00:00",
          "2015-11-01T00:00:00",
          "2015-12-01T00:00:00",
          "2016-01-01T00:00:00",
          "2016-02-01T00:00:00",
          "2016-03-01T00:00:00",
          "2016-04-01T00:00:00",
          "2016-05-01T00:00:00",
          "2016-06-01T00:00:00",
          "2016-07-01T00:00:00",
          "2016-08-01T00:00:00",
          "2016-09-01T00:00:00"
         ],
         "y": [
          7.612903225806452,
          6.107142857142857,
          7.967741935483871,
          6.233333333333333,
          5.32258064516129,
          4.9,
          3.774193548387097,
          5.290322580645161,
          4.033333333333333,
          2.903225806451613,
          2.8666666666666667,
          5.266666666666667,
          5.225806451612903,
          10.571428571428571,
          9.709677419354838,
          9.6,
          9.516129032258064,
          8.9,
          9.096774193548388,
          1,
          5.3,
          2.7419354838709675,
          1.3,
          3.466666666666667,
          4.806451612903226,
          2.142857142857143,
          1.7419354838709677,
          4.533333333333333,
          6.064516129032258,
          7.5,
          6.483870967741935,
          7.419354838709677,
          9,
          5.774193548387097,
          4.3,
          3.966666666666667,
          3.3548387096774195,
          5.896551724137931,
          2.3548387096774195,
          1.7333333333333334,
          1.967741935483871,
          2.033333333333333,
          2.806451612903226,
          2.806451612903226,
          5.583333333333333
         ]
        },
        {
         "mode": "lines",
         "name": "Store 39, Family PERSONAL CARE",
         "type": "scatter",
         "x": [
          "2013-01-01T00:00:00",
          "2013-02-01T00:00:00",
          "2013-03-01T00:00:00",
          "2013-04-01T00:00:00",
          "2013-05-01T00:00:00",
          "2013-06-01T00:00:00",
          "2013-07-01T00:00:00",
          "2013-08-01T00:00:00",
          "2013-09-01T00:00:00",
          "2013-10-01T00:00:00",
          "2013-11-01T00:00:00",
          "2013-12-01T00:00:00",
          "2014-01-01T00:00:00",
          "2014-02-01T00:00:00",
          "2014-03-01T00:00:00",
          "2014-04-01T00:00:00",
          "2014-05-01T00:00:00",
          "2014-06-01T00:00:00",
          "2014-07-01T00:00:00",
          "2014-08-01T00:00:00",
          "2014-09-01T00:00:00",
          "2014-10-01T00:00:00",
          "2014-11-01T00:00:00",
          "2014-12-01T00:00:00",
          "2015-01-01T00:00:00",
          "2015-02-01T00:00:00",
          "2015-03-01T00:00:00",
          "2015-04-01T00:00:00",
          "2015-05-01T00:00:00",
          "2015-06-01T00:00:00",
          "2015-07-01T00:00:00",
          "2015-08-01T00:00:00",
          "2015-09-01T00:00:00",
          "2015-10-01T00:00:00",
          "2015-11-01T00:00:00",
          "2015-12-01T00:00:00",
          "2016-01-01T00:00:00",
          "2016-02-01T00:00:00",
          "2016-03-01T00:00:00",
          "2016-04-01T00:00:00",
          "2016-05-01T00:00:00",
          "2016-06-01T00:00:00",
          "2016-07-01T00:00:00",
          "2016-08-01T00:00:00",
          "2016-09-01T00:00:00"
         ],
         "y": [
          232.41935483870967,
          216.03571428571428,
          265.5483870967742,
          270.9,
          259.7741935483871,
          295.3,
          268.5483870967742,
          224.09677419354838,
          227.46666666666667,
          219.6451612903226,
          247.4,
          285.53333333333336,
          253.41935483870967,
          244.92857142857142,
          272.35483870967744,
          244.33333333333334,
          267.16129032258067,
          271,
          250.32258064516128,
          253.1290322580645,
          225.13333333333333,
          303.9032258064516,
          310.56666666666666,
          328.5,
          315.96774193548384,
          278.57142857142856,
          321.6774193548387,
          313.4,
          334.7096774193548,
          321,
          339.16129032258067,
          300.7741935483871,
          319.6,
          325.7741935483871,
          295.23333333333335,
          359.3333333333333,
          379.2258064516129,
          356.13793103448273,
          344.7741935483871,
          436.2,
          381.9032258064516,
          339.03333333333336,
          331.93548387096774,
          307.1290322580645,
          415.09090909090907
         ]
        },
        {
         "mode": "lines",
         "name": "Store 25, Family DAIRY",
         "type": "scatter",
         "x": [
          "2013-01-01T00:00:00",
          "2013-02-01T00:00:00",
          "2013-03-01T00:00:00",
          "2013-04-01T00:00:00",
          "2013-05-01T00:00:00",
          "2013-06-01T00:00:00",
          "2013-07-01T00:00:00",
          "2013-08-01T00:00:00",
          "2013-09-01T00:00:00",
          "2013-10-01T00:00:00",
          "2013-11-01T00:00:00",
          "2013-12-01T00:00:00",
          "2014-01-01T00:00:00",
          "2014-02-01T00:00:00",
          "2014-03-01T00:00:00",
          "2014-04-01T00:00:00",
          "2014-05-01T00:00:00",
          "2014-06-01T00:00:00",
          "2014-07-01T00:00:00",
          "2014-08-01T00:00:00",
          "2014-09-01T00:00:00",
          "2014-10-01T00:00:00",
          "2014-11-01T00:00:00",
          "2014-12-01T00:00:00",
          "2015-01-01T00:00:00",
          "2015-02-01T00:00:00",
          "2015-03-01T00:00:00",
          "2015-04-01T00:00:00",
          "2015-05-01T00:00:00",
          "2015-06-01T00:00:00",
          "2015-07-01T00:00:00",
          "2015-08-01T00:00:00",
          "2015-09-01T00:00:00",
          "2015-10-01T00:00:00",
          "2015-11-01T00:00:00",
          "2015-12-01T00:00:00",
          "2016-01-01T00:00:00",
          "2016-02-01T00:00:00",
          "2016-03-01T00:00:00",
          "2016-04-01T00:00:00",
          "2016-05-01T00:00:00",
          "2016-06-01T00:00:00",
          "2016-07-01T00:00:00",
          "2016-08-01T00:00:00",
          "2016-09-01T00:00:00"
         ],
         "y": [
          266.35483870967744,
          446.4642857142857,
          440.258064516129,
          313.8333333333333,
          242.70967741935485,
          203.96666666666667,
          216.4516129032258,
          258.80645161290323,
          206.4,
          282.19354838709677,
          272,
          623.8333333333334,
          471.51612903225805,
          482.17857142857144,
          633.741935483871,
          546.5333333333333,
          341.38709677419354,
          332,
          400.4193548387097,
          408.48387096774195,
          351.03333333333336,
          441.7096774193548,
          376.3666666666667,
          719,
          517.741935483871,
          639.7857142857143,
          611.741935483871,
          624,
          407.1290322580645,
          377.96666666666664,
          433.19354838709677,
          519.0322580645161,
          357,
          523.9032258064516,
          406.53333333333336,
          692.3,
          532.5806451612904,
          729.7931034482758,
          706,
          542.4,
          467.06451612903226,
          395.43333333333334,
          478.35483870967744,
          393.7096774193548,
          0
         ]
        },
        {
         "mode": "lines",
         "name": "Store 53, Family HARDWARE",
         "type": "scatter",
         "x": [
          "2013-01-01T00:00:00",
          "2013-02-01T00:00:00",
          "2013-03-01T00:00:00",
          "2013-04-01T00:00:00",
          "2013-05-01T00:00:00",
          "2013-06-01T00:00:00",
          "2013-07-01T00:00:00",
          "2013-08-01T00:00:00",
          "2013-09-01T00:00:00",
          "2013-10-01T00:00:00",
          "2013-11-01T00:00:00",
          "2013-12-01T00:00:00",
          "2014-01-01T00:00:00",
          "2014-02-01T00:00:00",
          "2014-03-01T00:00:00",
          "2014-04-01T00:00:00",
          "2014-05-01T00:00:00",
          "2014-06-01T00:00:00",
          "2014-07-01T00:00:00",
          "2014-08-01T00:00:00",
          "2014-09-01T00:00:00",
          "2014-10-01T00:00:00",
          "2014-11-01T00:00:00",
          "2014-12-01T00:00:00",
          "2015-01-01T00:00:00",
          "2015-02-01T00:00:00",
          "2015-03-01T00:00:00",
          "2015-04-01T00:00:00",
          "2015-05-01T00:00:00",
          "2015-06-01T00:00:00",
          "2015-07-01T00:00:00",
          "2015-08-01T00:00:00",
          "2015-09-01T00:00:00",
          "2015-10-01T00:00:00",
          "2015-11-01T00:00:00",
          "2015-12-01T00:00:00",
          "2016-01-01T00:00:00",
          "2016-02-01T00:00:00",
          "2016-03-01T00:00:00",
          "2016-04-01T00:00:00",
          "2016-05-01T00:00:00",
          "2016-06-01T00:00:00",
          "2016-07-01T00:00:00",
          "2016-08-01T00:00:00",
          "2016-09-01T00:00:00"
         ],
         "y": [
          0,
          0,
          0,
          0,
          0,
          0,
          0,
          0,
          0,
          0,
          0,
          0,
          0,
          0,
          0,
          0,
          0.1935483870967742,
          1.1666666666666667,
          1,
          1.032258064516129,
          1.0666666666666667,
          0.6774193548387096,
          0.8,
          1.1333333333333333,
          0.45161290322580644,
          0.8214285714285714,
          0.6129032258064516,
          1.1,
          0.5806451612903226,
          0.7666666666666667,
          0.9032258064516129,
          0.6129032258064516,
          0.8333333333333334,
          0.8064516129032258,
          1.0333333333333334,
          1.8666666666666667,
          0.7096774193548387,
          0.9655172413793104,
          1.032258064516129,
          1.4666666666666666,
          1.903225806451613,
          2.3666666666666667,
          3.5806451612903225,
          1.903225806451613,
          2
         ]
        },
        {
         "mode": "lines",
         "name": "Store 19, Family HOME APPLIANCES",
         "type": "scatter",
         "x": [
          "2013-01-01T00:00:00",
          "2013-02-01T00:00:00",
          "2013-03-01T00:00:00",
          "2013-04-01T00:00:00",
          "2013-05-01T00:00:00",
          "2013-06-01T00:00:00",
          "2013-07-01T00:00:00",
          "2013-08-01T00:00:00",
          "2013-09-01T00:00:00",
          "2013-10-01T00:00:00",
          "2013-11-01T00:00:00",
          "2013-12-01T00:00:00",
          "2014-01-01T00:00:00",
          "2014-02-01T00:00:00",
          "2014-03-01T00:00:00",
          "2014-04-01T00:00:00",
          "2014-05-01T00:00:00",
          "2014-06-01T00:00:00",
          "2014-07-01T00:00:00",
          "2014-08-01T00:00:00",
          "2014-09-01T00:00:00",
          "2014-10-01T00:00:00",
          "2014-11-01T00:00:00",
          "2014-12-01T00:00:00",
          "2015-01-01T00:00:00",
          "2015-02-01T00:00:00",
          "2015-03-01T00:00:00",
          "2015-04-01T00:00:00",
          "2015-05-01T00:00:00",
          "2015-06-01T00:00:00",
          "2015-07-01T00:00:00",
          "2015-08-01T00:00:00",
          "2015-09-01T00:00:00",
          "2015-10-01T00:00:00",
          "2015-11-01T00:00:00",
          "2015-12-01T00:00:00",
          "2016-01-01T00:00:00",
          "2016-02-01T00:00:00",
          "2016-03-01T00:00:00",
          "2016-04-01T00:00:00",
          "2016-05-01T00:00:00",
          "2016-06-01T00:00:00",
          "2016-07-01T00:00:00",
          "2016-08-01T00:00:00",
          "2016-09-01T00:00:00"
         ],
         "y": [
          0,
          0.03571428571428571,
          0.0967741935483871,
          0.03333333333333333,
          0.3225806451612903,
          0.23333333333333334,
          0.0967741935483871,
          0.16129032258064516,
          0.16666666666666666,
          0.2903225806451613,
          0.16666666666666666,
          0.16666666666666666,
          0.22580645161290322,
          0.03571428571428571,
          0.1935483870967742,
          0.2,
          0.12903225806451613,
          0.23333333333333334,
          0.1935483870967742,
          0.3225806451612903,
          0.26666666666666666,
          0.0967741935483871,
          0.2,
          0.3,
          0.2903225806451613,
          0.17857142857142858,
          0.5483870967741935,
          0.3,
          0.1935483870967742,
          0.36666666666666664,
          0.16129032258064516,
          0,
          0.16666666666666666,
          0.12903225806451613,
          0.1,
          0.16666666666666666,
          0.0967741935483871,
          0.13793103448275862,
          0.03225806451612903,
          0.03333333333333333,
          0,
          0,
          0.03225806451612903,
          0,
          0
         ]
        },
        {
         "mode": "lines",
         "name": "Store 24, Family HARDWARE",
         "type": "scatter",
         "x": [
          "2013-01-01T00:00:00",
          "2013-02-01T00:00:00",
          "2013-03-01T00:00:00",
          "2013-04-01T00:00:00",
          "2013-05-01T00:00:00",
          "2013-06-01T00:00:00",
          "2013-07-01T00:00:00",
          "2013-08-01T00:00:00",
          "2013-09-01T00:00:00",
          "2013-10-01T00:00:00",
          "2013-11-01T00:00:00",
          "2013-12-01T00:00:00",
          "2014-01-01T00:00:00",
          "2014-02-01T00:00:00",
          "2014-03-01T00:00:00",
          "2014-04-01T00:00:00",
          "2014-05-01T00:00:00",
          "2014-06-01T00:00:00",
          "2014-07-01T00:00:00",
          "2014-08-01T00:00:00",
          "2014-09-01T00:00:00",
          "2014-10-01T00:00:00",
          "2014-11-01T00:00:00",
          "2014-12-01T00:00:00",
          "2015-01-01T00:00:00",
          "2015-02-01T00:00:00",
          "2015-03-01T00:00:00",
          "2015-04-01T00:00:00",
          "2015-05-01T00:00:00",
          "2015-06-01T00:00:00",
          "2015-07-01T00:00:00",
          "2015-08-01T00:00:00",
          "2015-09-01T00:00:00",
          "2015-10-01T00:00:00",
          "2015-11-01T00:00:00",
          "2015-12-01T00:00:00",
          "2016-01-01T00:00:00",
          "2016-02-01T00:00:00",
          "2016-03-01T00:00:00",
          "2016-04-01T00:00:00",
          "2016-05-01T00:00:00",
          "2016-06-01T00:00:00",
          "2016-07-01T00:00:00",
          "2016-08-01T00:00:00",
          "2016-09-01T00:00:00"
         ],
         "y": [
          0.03225806451612903,
          0.7857142857142857,
          0.25806451612903225,
          0,
          1.1935483870967742,
          1.2666666666666666,
          0.967741935483871,
          1.5161290322580645,
          1.6,
          0.8387096774193549,
          0.6333333333333333,
          0.16666666666666666,
          0.4838709677419355,
          0.7857142857142857,
          1.4838709677419355,
          0.23333333333333334,
          0,
          0,
          0.6451612903225806,
          0.9354838709677419,
          1.6333333333333333,
          1.096774193548387,
          1.1666666666666667,
          1.7333333333333334,
          0.3225806451612903,
          1.25,
          1.8709677419354838,
          1.9666666666666666,
          1.7741935483870968,
          1.6,
          1.1935483870967742,
          1.6129032258064515,
          1.1666666666666667,
          1.7096774193548387,
          1.6,
          1.4333333333333333,
          0.9032258064516129,
          0.9655172413793104,
          1.4193548387096775,
          1.1,
          1.1612903225806452,
          0.8333333333333334,
          1.2903225806451613,
          1.6129032258064515,
          1.1818181818181819
         ]
        },
        {
         "mode": "lines",
         "name": "Store 13, Family LINGERIE",
         "type": "scatter",
         "x": [
          "2013-01-01T00:00:00",
          "2013-02-01T00:00:00",
          "2013-03-01T00:00:00",
          "2013-04-01T00:00:00",
          "2013-05-01T00:00:00",
          "2013-06-01T00:00:00",
          "2013-07-01T00:00:00",
          "2013-08-01T00:00:00",
          "2013-09-01T00:00:00",
          "2013-10-01T00:00:00",
          "2013-11-01T00:00:00",
          "2013-12-01T00:00:00",
          "2014-01-01T00:00:00",
          "2014-02-01T00:00:00",
          "2014-03-01T00:00:00",
          "2014-04-01T00:00:00",
          "2014-05-01T00:00:00",
          "2014-06-01T00:00:00",
          "2014-07-01T00:00:00",
          "2014-08-01T00:00:00",
          "2014-09-01T00:00:00",
          "2014-10-01T00:00:00",
          "2014-11-01T00:00:00",
          "2014-12-01T00:00:00",
          "2015-01-01T00:00:00",
          "2015-02-01T00:00:00",
          "2015-03-01T00:00:00",
          "2015-04-01T00:00:00",
          "2015-05-01T00:00:00",
          "2015-06-01T00:00:00",
          "2015-07-01T00:00:00",
          "2015-08-01T00:00:00",
          "2015-09-01T00:00:00",
          "2015-10-01T00:00:00",
          "2015-11-01T00:00:00",
          "2015-12-01T00:00:00",
          "2016-01-01T00:00:00",
          "2016-02-01T00:00:00",
          "2016-03-01T00:00:00",
          "2016-04-01T00:00:00",
          "2016-05-01T00:00:00",
          "2016-06-01T00:00:00",
          "2016-07-01T00:00:00",
          "2016-08-01T00:00:00",
          "2016-09-01T00:00:00"
         ],
         "y": [
          5.935483870967742,
          6.142857142857143,
          5.580645161290323,
          4.566666666666666,
          3.870967741935484,
          5.666666666666667,
          4.516129032258065,
          5,
          3.5,
          3.032258064516129,
          3.6333333333333333,
          5.3,
          4.967741935483871,
          5.5,
          4.032258064516129,
          3.5,
          4.935483870967742,
          2.7333333333333334,
          2.7419354838709675,
          3.129032258064516,
          2.433333333333333,
          3.064516129032258,
          2.2,
          3.2,
          0.5806451612903226,
          0.4642857142857143,
          1.4193548387096775,
          4,
          3.870967741935484,
          2.2666666666666666,
          2.903225806451613,
          1.903225806451613,
          1.8666666666666667,
          2.967741935483871,
          1.5,
          1.3,
          1.4193548387096775,
          1.8275862068965518,
          2.161290322580645,
          1.8666666666666667,
          0.7419354838709677,
          0.3,
          0.3225806451612903,
          2.193548387096774,
          4.75
         ]
        },
        {
         "mode": "lines",
         "name": "Store 51, Family POULTRY",
         "type": "scatter",
         "x": [
          "2013-01-01T00:00:00",
          "2013-02-01T00:00:00",
          "2013-03-01T00:00:00",
          "2013-04-01T00:00:00",
          "2013-05-01T00:00:00",
          "2013-06-01T00:00:00",
          "2013-07-01T00:00:00",
          "2013-08-01T00:00:00",
          "2013-09-01T00:00:00",
          "2013-10-01T00:00:00",
          "2013-11-01T00:00:00",
          "2013-12-01T00:00:00",
          "2014-01-01T00:00:00",
          "2014-02-01T00:00:00",
          "2014-03-01T00:00:00",
          "2014-04-01T00:00:00",
          "2014-05-01T00:00:00",
          "2014-06-01T00:00:00",
          "2014-07-01T00:00:00",
          "2014-08-01T00:00:00",
          "2014-09-01T00:00:00",
          "2014-10-01T00:00:00",
          "2014-11-01T00:00:00",
          "2014-12-01T00:00:00",
          "2015-01-01T00:00:00",
          "2015-02-01T00:00:00",
          "2015-03-01T00:00:00",
          "2015-04-01T00:00:00",
          "2015-05-01T00:00:00",
          "2015-06-01T00:00:00",
          "2015-07-01T00:00:00",
          "2015-08-01T00:00:00",
          "2015-09-01T00:00:00",
          "2015-10-01T00:00:00",
          "2015-11-01T00:00:00",
          "2015-12-01T00:00:00",
          "2016-01-01T00:00:00",
          "2016-02-01T00:00:00",
          "2016-03-01T00:00:00",
          "2016-04-01T00:00:00",
          "2016-05-01T00:00:00",
          "2016-06-01T00:00:00",
          "2016-07-01T00:00:00",
          "2016-08-01T00:00:00",
          "2016-09-01T00:00:00"
         ],
         "y": [
          393.0867741935484,
          376.88603714285716,
          385.9816464516129,
          406.106502,
          428.44719225806455,
          430.5475666666667,
          400.7583229032258,
          416.50442032258064,
          412.938066,
          386.59548322580645,
          757.1986680000001,
          875.1813323333333,
          870.7981841935483,
          827.6743914285714,
          894.0411438709677,
          805.039672,
          844.2480354838709,
          969.77057,
          841.7801590322581,
          793.238195483871,
          763.0973013333333,
          776.0454545161291,
          809.4678976666667,
          907.2292653333334,
          795.3475161290323,
          767.6511785714285,
          761.0048096774193,
          734.6512356666666,
          840.9461287096774,
          859.3450003333334,
          833.396193548387,
          813.0058061290323,
          793.272399,
          814.2152916129032,
          827.486733,
          981.9288300000001,
          784.4168051612903,
          1000.4675517241379,
          1076.1125161290322,
          1067.0038686666667,
          1171.4561641935484,
          1100.0472023333334,
          1074.2704529032258,
          1160.0798032258065,
          992.1115436363635
         ]
        },
        {
         "mode": "lines",
         "name": "Store 45, Family PREPARED FOODS",
         "type": "scatter",
         "x": [
          "2013-01-01T00:00:00",
          "2013-02-01T00:00:00",
          "2013-03-01T00:00:00",
          "2013-04-01T00:00:00",
          "2013-05-01T00:00:00",
          "2013-06-01T00:00:00",
          "2013-07-01T00:00:00",
          "2013-08-01T00:00:00",
          "2013-09-01T00:00:00",
          "2013-10-01T00:00:00",
          "2013-11-01T00:00:00",
          "2013-12-01T00:00:00",
          "2014-01-01T00:00:00",
          "2014-02-01T00:00:00",
          "2014-03-01T00:00:00",
          "2014-04-01T00:00:00",
          "2014-05-01T00:00:00",
          "2014-06-01T00:00:00",
          "2014-07-01T00:00:00",
          "2014-08-01T00:00:00",
          "2014-09-01T00:00:00",
          "2014-10-01T00:00:00",
          "2014-11-01T00:00:00",
          "2014-12-01T00:00:00",
          "2015-01-01T00:00:00",
          "2015-02-01T00:00:00",
          "2015-03-01T00:00:00",
          "2015-04-01T00:00:00",
          "2015-05-01T00:00:00",
          "2015-06-01T00:00:00",
          "2015-07-01T00:00:00",
          "2015-08-01T00:00:00",
          "2015-09-01T00:00:00",
          "2015-10-01T00:00:00",
          "2015-11-01T00:00:00",
          "2015-12-01T00:00:00",
          "2016-01-01T00:00:00",
          "2016-02-01T00:00:00",
          "2016-03-01T00:00:00",
          "2016-04-01T00:00:00",
          "2016-05-01T00:00:00",
          "2016-06-01T00:00:00",
          "2016-07-01T00:00:00",
          "2016-08-01T00:00:00",
          "2016-09-01T00:00:00"
         ],
         "y": [
          260.16748451612904,
          303.52857428571434,
          335.94625903225807,
          261.21443266666665,
          314.12293258064517,
          320.11303433333336,
          301.11545322580645,
          303.3302564516129,
          288.738901,
          285.67880612903224,
          323.25953233333337,
          318.13673133333333,
          329.34232387096773,
          327.8116064285714,
          366.0616135483871,
          357.3070333333333,
          335.4600338709677,
          336.2058333333333,
          330.28206419354836,
          316.04254935483874,
          338.87493433333333,
          370.42606451612903,
          379.3770016666667,
          334.72603499999997,
          328.78261096774196,
          319.4293917857143,
          327.81990161290327,
          335.8601003333333,
          323.224645483871,
          333.654966,
          332.1138380645162,
          315.4793558064516,
          325.80643233333336,
          324.1735490322581,
          337.81333266666667,
          359.94386533333335,
          351.9878077419355,
          342.614895862069,
          327.25529032258066,
          353.010534,
          321.22768096774195,
          335.90283266666665,
          353.76812806451613,
          327.51141806451614,
          387.89246
         ]
        },
        {
         "mode": "lines",
         "name": "Store 3, Family HOME CARE",
         "type": "scatter",
         "x": [
          "2013-01-01T00:00:00",
          "2013-02-01T00:00:00",
          "2013-03-01T00:00:00",
          "2013-04-01T00:00:00",
          "2013-05-01T00:00:00",
          "2013-06-01T00:00:00",
          "2013-07-01T00:00:00",
          "2013-08-01T00:00:00",
          "2013-09-01T00:00:00",
          "2013-10-01T00:00:00",
          "2013-11-01T00:00:00",
          "2013-12-01T00:00:00",
          "2014-01-01T00:00:00",
          "2014-02-01T00:00:00",
          "2014-03-01T00:00:00",
          "2014-04-01T00:00:00",
          "2014-05-01T00:00:00",
          "2014-06-01T00:00:00",
          "2014-07-01T00:00:00",
          "2014-08-01T00:00:00",
          "2014-09-01T00:00:00",
          "2014-10-01T00:00:00",
          "2014-11-01T00:00:00",
          "2014-12-01T00:00:00",
          "2015-01-01T00:00:00",
          "2015-02-01T00:00:00",
          "2015-03-01T00:00:00",
          "2015-04-01T00:00:00",
          "2015-05-01T00:00:00",
          "2015-06-01T00:00:00",
          "2015-07-01T00:00:00",
          "2015-08-01T00:00:00",
          "2015-09-01T00:00:00",
          "2015-10-01T00:00:00",
          "2015-11-01T00:00:00",
          "2015-12-01T00:00:00",
          "2016-01-01T00:00:00",
          "2016-02-01T00:00:00",
          "2016-03-01T00:00:00",
          "2016-04-01T00:00:00",
          "2016-05-01T00:00:00",
          "2016-06-01T00:00:00",
          "2016-07-01T00:00:00",
          "2016-08-01T00:00:00",
          "2016-09-01T00:00:00"
         ],
         "y": [
          0,
          0,
          0,
          0,
          0,
          0,
          0,
          0,
          0,
          0,
          0,
          0,
          501.16129032258067,
          0,
          473.6774193548387,
          0,
          0,
          0,
          492.6774193548387,
          0,
          504.1,
          507.06451612903226,
          503.8666666666667,
          487.9,
          0,
          0,
          0,
          0,
          448.16129032258067,
          498.4,
          536.0645161290323,
          556.6774193548387,
          533.5333333333333,
          512.483870967742,
          509.96666666666664,
          525.5333333333333,
          513.1935483870968,
          484.1034482758621,
          469.38709677419354,
          607.4333333333333,
          516.6129032258065,
          455,
          494.64516129032256,
          483.80645161290323,
          591.0909090909091
         ]
        },
        {
         "mode": "lines",
         "name": "Store 8, Family PREPARED FOODS",
         "type": "scatter",
         "x": [
          "2013-01-01T00:00:00",
          "2013-02-01T00:00:00",
          "2013-03-01T00:00:00",
          "2013-04-01T00:00:00",
          "2013-05-01T00:00:00",
          "2013-06-01T00:00:00",
          "2013-07-01T00:00:00",
          "2013-08-01T00:00:00",
          "2013-09-01T00:00:00",
          "2013-10-01T00:00:00",
          "2013-11-01T00:00:00",
          "2013-12-01T00:00:00",
          "2014-01-01T00:00:00",
          "2014-02-01T00:00:00",
          "2014-03-01T00:00:00",
          "2014-04-01T00:00:00",
          "2014-05-01T00:00:00",
          "2014-06-01T00:00:00",
          "2014-07-01T00:00:00",
          "2014-08-01T00:00:00",
          "2014-09-01T00:00:00",
          "2014-10-01T00:00:00",
          "2014-11-01T00:00:00",
          "2014-12-01T00:00:00",
          "2015-01-01T00:00:00",
          "2015-02-01T00:00:00",
          "2015-03-01T00:00:00",
          "2015-04-01T00:00:00",
          "2015-05-01T00:00:00",
          "2015-06-01T00:00:00",
          "2015-07-01T00:00:00",
          "2015-08-01T00:00:00",
          "2015-09-01T00:00:00",
          "2015-10-01T00:00:00",
          "2015-11-01T00:00:00",
          "2015-12-01T00:00:00",
          "2016-01-01T00:00:00",
          "2016-02-01T00:00:00",
          "2016-03-01T00:00:00",
          "2016-04-01T00:00:00",
          "2016-05-01T00:00:00",
          "2016-06-01T00:00:00",
          "2016-07-01T00:00:00",
          "2016-08-01T00:00:00",
          "2016-09-01T00:00:00"
         ],
         "y": [
          222.46096838709678,
          248.06182071428572,
          245.72416258064516,
          232.52889966666666,
          225.4950329032258,
          229.34590033333333,
          220.5442264516129,
          223.06658032258062,
          225.88673266666666,
          209.95393709677418,
          218.11106633333335,
          243.54979933333334,
          252.39767838709676,
          211.48210714285713,
          242.4034829032258,
          218.664199,
          216.53093419354838,
          214.84866733333334,
          207.14077419354837,
          202.89058096774193,
          225.99409966666664,
          229.52080709677418,
          216.0641,
          204.06206566666665,
          208.12319258064517,
          204.98421428571427,
          237.85113,
          231.3281003333333,
          217.86587161290322,
          214.84380033333335,
          230.54745129032258,
          207.54622612903225,
          210.64413299999998,
          214.5874206451613,
          206.31850033333333,
          212.912101,
          198.45345161290322,
          193.84406862068965,
          208.19470903225806,
          206.38649966666665,
          195.9311287096774,
          195.23649966666665,
          197.12132258064517,
          176.15541806451614,
          212.85036363636362
         ]
        },
        {
         "mode": "lines",
         "name": "Store 21, Family EGGS",
         "type": "scatter",
         "x": [
          "2013-01-01T00:00:00",
          "2013-02-01T00:00:00",
          "2013-03-01T00:00:00",
          "2013-04-01T00:00:00",
          "2013-05-01T00:00:00",
          "2013-06-01T00:00:00",
          "2013-07-01T00:00:00",
          "2013-08-01T00:00:00",
          "2013-09-01T00:00:00",
          "2013-10-01T00:00:00",
          "2013-11-01T00:00:00",
          "2013-12-01T00:00:00",
          "2014-01-01T00:00:00",
          "2014-02-01T00:00:00",
          "2014-03-01T00:00:00",
          "2014-04-01T00:00:00",
          "2014-05-01T00:00:00",
          "2014-06-01T00:00:00",
          "2014-07-01T00:00:00",
          "2014-08-01T00:00:00",
          "2014-09-01T00:00:00",
          "2014-10-01T00:00:00",
          "2014-11-01T00:00:00",
          "2014-12-01T00:00:00",
          "2015-01-01T00:00:00",
          "2015-02-01T00:00:00",
          "2015-03-01T00:00:00",
          "2015-04-01T00:00:00",
          "2015-05-01T00:00:00",
          "2015-06-01T00:00:00",
          "2015-07-01T00:00:00",
          "2015-08-01T00:00:00",
          "2015-09-01T00:00:00",
          "2015-10-01T00:00:00",
          "2015-11-01T00:00:00",
          "2015-12-01T00:00:00",
          "2016-01-01T00:00:00",
          "2016-02-01T00:00:00",
          "2016-03-01T00:00:00",
          "2016-04-01T00:00:00",
          "2016-05-01T00:00:00",
          "2016-06-01T00:00:00",
          "2016-07-01T00:00:00",
          "2016-08-01T00:00:00",
          "2016-09-01T00:00:00"
         ],
         "y": [
          0,
          0,
          0,
          0,
          0,
          0,
          0,
          0,
          0,
          0,
          0,
          0,
          0,
          0,
          0,
          0,
          0,
          0,
          0,
          0,
          0,
          0,
          0,
          0,
          0,
          0,
          0,
          0,
          0,
          0,
          68.16129032258064,
          199.6451612903226,
          196.7,
          179.2258064516129,
          162.53333333333333,
          145.76666666666668,
          146.61290322580646,
          148.82758620689654,
          139.41935483870967,
          166.3,
          208.6451612903226,
          219.9,
          223.67741935483872,
          195,
          243.0909090909091
         ]
        }
       ],
       "layout": {
        "template": {
         "data": {
          "bar": [
           {
            "error_x": {
             "color": "#2a3f5f"
            },
            "error_y": {
             "color": "#2a3f5f"
            },
            "marker": {
             "line": {
              "color": "#E5ECF6",
              "width": 0.5
             },
             "pattern": {
              "fillmode": "overlay",
              "size": 10,
              "solidity": 0.2
             }
            },
            "type": "bar"
           }
          ],
          "barpolar": [
           {
            "marker": {
             "line": {
              "color": "#E5ECF6",
              "width": 0.5
             },
             "pattern": {
              "fillmode": "overlay",
              "size": 10,
              "solidity": 0.2
             }
            },
            "type": "barpolar"
           }
          ],
          "carpet": [
           {
            "aaxis": {
             "endlinecolor": "#2a3f5f",
             "gridcolor": "white",
             "linecolor": "white",
             "minorgridcolor": "white",
             "startlinecolor": "#2a3f5f"
            },
            "baxis": {
             "endlinecolor": "#2a3f5f",
             "gridcolor": "white",
             "linecolor": "white",
             "minorgridcolor": "white",
             "startlinecolor": "#2a3f5f"
            },
            "type": "carpet"
           }
          ],
          "choropleth": [
           {
            "colorbar": {
             "outlinewidth": 0,
             "ticks": ""
            },
            "type": "choropleth"
           }
          ],
          "contour": [
           {
            "colorbar": {
             "outlinewidth": 0,
             "ticks": ""
            },
            "colorscale": [
             [
              0,
              "#0d0887"
             ],
             [
              0.1111111111111111,
              "#46039f"
             ],
             [
              0.2222222222222222,
              "#7201a8"
             ],
             [
              0.3333333333333333,
              "#9c179e"
             ],
             [
              0.4444444444444444,
              "#bd3786"
             ],
             [
              0.5555555555555556,
              "#d8576b"
             ],
             [
              0.6666666666666666,
              "#ed7953"
             ],
             [
              0.7777777777777778,
              "#fb9f3a"
             ],
             [
              0.8888888888888888,
              "#fdca26"
             ],
             [
              1,
              "#f0f921"
             ]
            ],
            "type": "contour"
           }
          ],
          "contourcarpet": [
           {
            "colorbar": {
             "outlinewidth": 0,
             "ticks": ""
            },
            "type": "contourcarpet"
           }
          ],
          "heatmap": [
           {
            "colorbar": {
             "outlinewidth": 0,
             "ticks": ""
            },
            "colorscale": [
             [
              0,
              "#0d0887"
             ],
             [
              0.1111111111111111,
              "#46039f"
             ],
             [
              0.2222222222222222,
              "#7201a8"
             ],
             [
              0.3333333333333333,
              "#9c179e"
             ],
             [
              0.4444444444444444,
              "#bd3786"
             ],
             [
              0.5555555555555556,
              "#d8576b"
             ],
             [
              0.6666666666666666,
              "#ed7953"
             ],
             [
              0.7777777777777778,
              "#fb9f3a"
             ],
             [
              0.8888888888888888,
              "#fdca26"
             ],
             [
              1,
              "#f0f921"
             ]
            ],
            "type": "heatmap"
           }
          ],
          "heatmapgl": [
           {
            "colorbar": {
             "outlinewidth": 0,
             "ticks": ""
            },
            "colorscale": [
             [
              0,
              "#0d0887"
             ],
             [
              0.1111111111111111,
              "#46039f"
             ],
             [
              0.2222222222222222,
              "#7201a8"
             ],
             [
              0.3333333333333333,
              "#9c179e"
             ],
             [
              0.4444444444444444,
              "#bd3786"
             ],
             [
              0.5555555555555556,
              "#d8576b"
             ],
             [
              0.6666666666666666,
              "#ed7953"
             ],
             [
              0.7777777777777778,
              "#fb9f3a"
             ],
             [
              0.8888888888888888,
              "#fdca26"
             ],
             [
              1,
              "#f0f921"
             ]
            ],
            "type": "heatmapgl"
           }
          ],
          "histogram": [
           {
            "marker": {
             "pattern": {
              "fillmode": "overlay",
              "size": 10,
              "solidity": 0.2
             }
            },
            "type": "histogram"
           }
          ],
          "histogram2d": [
           {
            "colorbar": {
             "outlinewidth": 0,
             "ticks": ""
            },
            "colorscale": [
             [
              0,
              "#0d0887"
             ],
             [
              0.1111111111111111,
              "#46039f"
             ],
             [
              0.2222222222222222,
              "#7201a8"
             ],
             [
              0.3333333333333333,
              "#9c179e"
             ],
             [
              0.4444444444444444,
              "#bd3786"
             ],
             [
              0.5555555555555556,
              "#d8576b"
             ],
             [
              0.6666666666666666,
              "#ed7953"
             ],
             [
              0.7777777777777778,
              "#fb9f3a"
             ],
             [
              0.8888888888888888,
              "#fdca26"
             ],
             [
              1,
              "#f0f921"
             ]
            ],
            "type": "histogram2d"
           }
          ],
          "histogram2dcontour": [
           {
            "colorbar": {
             "outlinewidth": 0,
             "ticks": ""
            },
            "colorscale": [
             [
              0,
              "#0d0887"
             ],
             [
              0.1111111111111111,
              "#46039f"
             ],
             [
              0.2222222222222222,
              "#7201a8"
             ],
             [
              0.3333333333333333,
              "#9c179e"
             ],
             [
              0.4444444444444444,
              "#bd3786"
             ],
             [
              0.5555555555555556,
              "#d8576b"
             ],
             [
              0.6666666666666666,
              "#ed7953"
             ],
             [
              0.7777777777777778,
              "#fb9f3a"
             ],
             [
              0.8888888888888888,
              "#fdca26"
             ],
             [
              1,
              "#f0f921"
             ]
            ],
            "type": "histogram2dcontour"
           }
          ],
          "mesh3d": [
           {
            "colorbar": {
             "outlinewidth": 0,
             "ticks": ""
            },
            "type": "mesh3d"
           }
          ],
          "parcoords": [
           {
            "line": {
             "colorbar": {
              "outlinewidth": 0,
              "ticks": ""
             }
            },
            "type": "parcoords"
           }
          ],
          "pie": [
           {
            "automargin": true,
            "type": "pie"
           }
          ],
          "scatter": [
           {
            "fillpattern": {
             "fillmode": "overlay",
             "size": 10,
             "solidity": 0.2
            },
            "type": "scatter"
           }
          ],
          "scatter3d": [
           {
            "line": {
             "colorbar": {
              "outlinewidth": 0,
              "ticks": ""
             }
            },
            "marker": {
             "colorbar": {
              "outlinewidth": 0,
              "ticks": ""
             }
            },
            "type": "scatter3d"
           }
          ],
          "scattercarpet": [
           {
            "marker": {
             "colorbar": {
              "outlinewidth": 0,
              "ticks": ""
             }
            },
            "type": "scattercarpet"
           }
          ],
          "scattergeo": [
           {
            "marker": {
             "colorbar": {
              "outlinewidth": 0,
              "ticks": ""
             }
            },
            "type": "scattergeo"
           }
          ],
          "scattergl": [
           {
            "marker": {
             "colorbar": {
              "outlinewidth": 0,
              "ticks": ""
             }
            },
            "type": "scattergl"
           }
          ],
          "scattermapbox": [
           {
            "marker": {
             "colorbar": {
              "outlinewidth": 0,
              "ticks": ""
             }
            },
            "type": "scattermapbox"
           }
          ],
          "scatterpolar": [
           {
            "marker": {
             "colorbar": {
              "outlinewidth": 0,
              "ticks": ""
             }
            },
            "type": "scatterpolar"
           }
          ],
          "scatterpolargl": [
           {
            "marker": {
             "colorbar": {
              "outlinewidth": 0,
              "ticks": ""
             }
            },
            "type": "scatterpolargl"
           }
          ],
          "scatterternary": [
           {
            "marker": {
             "colorbar": {
              "outlinewidth": 0,
              "ticks": ""
             }
            },
            "type": "scatterternary"
           }
          ],
          "surface": [
           {
            "colorbar": {
             "outlinewidth": 0,
             "ticks": ""
            },
            "colorscale": [
             [
              0,
              "#0d0887"
             ],
             [
              0.1111111111111111,
              "#46039f"
             ],
             [
              0.2222222222222222,
              "#7201a8"
             ],
             [
              0.3333333333333333,
              "#9c179e"
             ],
             [
              0.4444444444444444,
              "#bd3786"
             ],
             [
              0.5555555555555556,
              "#d8576b"
             ],
             [
              0.6666666666666666,
              "#ed7953"
             ],
             [
              0.7777777777777778,
              "#fb9f3a"
             ],
             [
              0.8888888888888888,
              "#fdca26"
             ],
             [
              1,
              "#f0f921"
             ]
            ],
            "type": "surface"
           }
          ],
          "table": [
           {
            "cells": {
             "fill": {
              "color": "#EBF0F8"
             },
             "line": {
              "color": "white"
             }
            },
            "header": {
             "fill": {
              "color": "#C8D4E3"
             },
             "line": {
              "color": "white"
             }
            },
            "type": "table"
           }
          ]
         },
         "layout": {
          "annotationdefaults": {
           "arrowcolor": "#2a3f5f",
           "arrowhead": 0,
           "arrowwidth": 1
          },
          "autotypenumbers": "strict",
          "coloraxis": {
           "colorbar": {
            "outlinewidth": 0,
            "ticks": ""
           }
          },
          "colorscale": {
           "diverging": [
            [
             0,
             "#8e0152"
            ],
            [
             0.1,
             "#c51b7d"
            ],
            [
             0.2,
             "#de77ae"
            ],
            [
             0.3,
             "#f1b6da"
            ],
            [
             0.4,
             "#fde0ef"
            ],
            [
             0.5,
             "#f7f7f7"
            ],
            [
             0.6,
             "#e6f5d0"
            ],
            [
             0.7,
             "#b8e186"
            ],
            [
             0.8,
             "#7fbc41"
            ],
            [
             0.9,
             "#4d9221"
            ],
            [
             1,
             "#276419"
            ]
           ],
           "sequential": [
            [
             0,
             "#0d0887"
            ],
            [
             0.1111111111111111,
             "#46039f"
            ],
            [
             0.2222222222222222,
             "#7201a8"
            ],
            [
             0.3333333333333333,
             "#9c179e"
            ],
            [
             0.4444444444444444,
             "#bd3786"
            ],
            [
             0.5555555555555556,
             "#d8576b"
            ],
            [
             0.6666666666666666,
             "#ed7953"
            ],
            [
             0.7777777777777778,
             "#fb9f3a"
            ],
            [
             0.8888888888888888,
             "#fdca26"
            ],
            [
             1,
             "#f0f921"
            ]
           ],
           "sequentialminus": [
            [
             0,
             "#0d0887"
            ],
            [
             0.1111111111111111,
             "#46039f"
            ],
            [
             0.2222222222222222,
             "#7201a8"
            ],
            [
             0.3333333333333333,
             "#9c179e"
            ],
            [
             0.4444444444444444,
             "#bd3786"
            ],
            [
             0.5555555555555556,
             "#d8576b"
            ],
            [
             0.6666666666666666,
             "#ed7953"
            ],
            [
             0.7777777777777778,
             "#fb9f3a"
            ],
            [
             0.8888888888888888,
             "#fdca26"
            ],
            [
             1,
             "#f0f921"
            ]
           ]
          },
          "colorway": [
           "#636efa",
           "#EF553B",
           "#00cc96",
           "#ab63fa",
           "#FFA15A",
           "#19d3f3",
           "#FF6692",
           "#B6E880",
           "#FF97FF",
           "#FECB52"
          ],
          "font": {
           "color": "#2a3f5f"
          },
          "geo": {
           "bgcolor": "white",
           "lakecolor": "white",
           "landcolor": "#E5ECF6",
           "showlakes": true,
           "showland": true,
           "subunitcolor": "white"
          },
          "hoverlabel": {
           "align": "left"
          },
          "hovermode": "closest",
          "mapbox": {
           "style": "light"
          },
          "paper_bgcolor": "white",
          "plot_bgcolor": "#E5ECF6",
          "polar": {
           "angularaxis": {
            "gridcolor": "white",
            "linecolor": "white",
            "ticks": ""
           },
           "bgcolor": "#E5ECF6",
           "radialaxis": {
            "gridcolor": "white",
            "linecolor": "white",
            "ticks": ""
           }
          },
          "scene": {
           "xaxis": {
            "backgroundcolor": "#E5ECF6",
            "gridcolor": "white",
            "gridwidth": 2,
            "linecolor": "white",
            "showbackground": true,
            "ticks": "",
            "zerolinecolor": "white"
           },
           "yaxis": {
            "backgroundcolor": "#E5ECF6",
            "gridcolor": "white",
            "gridwidth": 2,
            "linecolor": "white",
            "showbackground": true,
            "ticks": "",
            "zerolinecolor": "white"
           },
           "zaxis": {
            "backgroundcolor": "#E5ECF6",
            "gridcolor": "white",
            "gridwidth": 2,
            "linecolor": "white",
            "showbackground": true,
            "ticks": "",
            "zerolinecolor": "white"
           }
          },
          "shapedefaults": {
           "line": {
            "color": "#2a3f5f"
           }
          },
          "ternary": {
           "aaxis": {
            "gridcolor": "white",
            "linecolor": "white",
            "ticks": ""
           },
           "baxis": {
            "gridcolor": "white",
            "linecolor": "white",
            "ticks": ""
           },
           "bgcolor": "#E5ECF6",
           "caxis": {
            "gridcolor": "white",
            "linecolor": "white",
            "ticks": ""
           }
          },
          "title": {
           "x": 0.05
          },
          "xaxis": {
           "automargin": true,
           "gridcolor": "white",
           "linecolor": "white",
           "ticks": "",
           "title": {
            "standoff": 15
           },
           "zerolinecolor": "white",
           "zerolinewidth": 2
          },
          "yaxis": {
           "automargin": true,
           "gridcolor": "white",
           "linecolor": "white",
           "ticks": "",
           "title": {
            "standoff": 15
           },
           "zerolinecolor": "white",
           "zerolinewidth": 2
          }
         }
        },
        "title": {
         "text": "Average Sales per Month for Random Store and Item Family Pairs"
        },
        "xaxis": {
         "title": {
          "text": "Month"
         }
        },
        "yaxis": {
         "title": {
          "text": "Average Sales"
         }
        }
       }
      }
     },
     "metadata": {},
     "output_type": "display_data"
    }
   ],
   "source": [
    "train_data['year_month'] = pd.to_datetime(train_data['date']).dt.to_period('M')\n",
    "\n",
    "random_pairs = train_data[['store_number', 'item_family']].drop_duplicates().sample(n=20, random_state=45)\n",
    "\n",
    "fig = go.Figure()\n",
    "\n",
    "for _, (store_number, item_family) in random_pairs.iterrows():\n",
    "    filtered_data = train_data[(train_data['store_number'] == store_number) & (train_data['item_family'] == item_family)]    \n",
    "    monthly_sales_summary = filtered_data.groupby('year_month')['item_sales'].mean().reset_index()\n",
    "    monthly_sales_summary['year_month'] = monthly_sales_summary['year_month'].dt.to_timestamp()\n",
    "    \n",
    "    fig.add_trace(go.Scatter(x=monthly_sales_summary['year_month'], y=monthly_sales_summary['item_sales'], \n",
    "                             mode='lines', name=f'Store {store_number}, Family {item_family}'))\n",
    "\n",
    "fig.update_layout(title='Average Sales per Month for Random Store and Item Family Pairs',\n",
    "                  xaxis_title='Month',\n",
    "                  yaxis_title='Average Sales',\n",
    "                  template='plotly')\n",
    "\n",
    "fig.show()"
   ]
  },
  {
   "cell_type": "markdown",
   "metadata": {},
   "source": [
    "#### It's clear that the behavior of different time series varies from one to another pretty much, hardly can we find some common trend for them"
   ]
  },
  {
   "cell_type": "markdown",
   "metadata": {},
   "source": [
    "### Main insights from the Exploratory Data Analysis:\n",
    "\n",
    "– Grocery, Beverages, Produce, Cleaning and Dairy - TOP 5 most sellable item families among all\n",
    "\n",
    "– Sales may vary greatly depending on shops' characteristics (type, cluster) and locations (city, state)\n",
    "\n",
    "– The type of the day (e.g Additional holiday) and its status (e.g. National holidays) influece stores' sales either\n",
    "\n",
    "– Some other actions uncluding unexpected ones may also have an impact on the sales (e.g earthquake on April 16, 2016 or oil prices falling)"
   ]
  },
  {
   "cell_type": "markdown",
   "metadata": {},
   "source": [
    "### According to all infromation we've got from the EDA we decided to implement some new features to our dataset:\n",
    "\n",
    "– is_during_oil_prices_falling\n",
    "\n",
    "– is_popular_store\n",
    "\n",
    "– is_popular_cluster\n",
    "\n",
    "– is_non_popular_cluster\n",
    "\n",
    "– is_special_non_working_day\n",
    "\n",
    "– is_national_holiday\n",
    "\n",
    "– is_state_pichincha\n",
    "\n",
    "– is_state_manabi_or_pastaza\n",
    "\n",
    "– is_store_type_A\n",
    "\n",
    "– is_city_quito_or_cayambe\n",
    "\n",
    "– is_city_manta_or_puyo\n",
    "\n",
    "– number_of_days_since_earthquake"
   ]
  },
  {
   "cell_type": "markdown",
   "metadata": {},
   "source": [
    "### Now let's write the fuction for automatic selection of outstanding items"
   ]
  },
  {
   "cell_type": "code",
   "execution_count": 27,
   "metadata": {},
   "outputs": [],
   "source": [
    "def select_outstanding_items(data, min_percent_falling):\n",
    "    min_percent_falling /= 100\n",
    "    outstanding_items = []\n",
    "    previous_sales = None\n",
    "    for index, row in data.iterrows():\n",
    "        current_sales = row['item_sales']\n",
    "        if previous_sales is not None and current_sales <= (1 - min_percent_falling) * previous_sales:\n",
    "            break\n",
    "        outstanding_items.append(row[data.columns[0]])\n",
    "        previous_sales = current_sales\n",
    "    return outstanding_items"
   ]
  },
  {
   "cell_type": "code",
   "execution_count": 28,
   "metadata": {},
   "outputs": [
    {
     "data": {
      "text/plain": [
       "['National']"
      ]
     },
     "execution_count": 28,
     "metadata": {},
     "output_type": "execute_result"
    }
   ],
   "source": [
    "select_outstanding_items(holiday_status_sales_summary, 10)"
   ]
  },
  {
   "cell_type": "code",
   "execution_count": 29,
   "metadata": {},
   "outputs": [
    {
     "data": {
      "text/plain": [
       "['Additional', 'Bridge', 'Event', 'Transfer']"
      ]
     },
     "execution_count": 29,
     "metadata": {},
     "output_type": "execute_result"
    }
   ],
   "source": [
    "select_outstanding_items(day_types_sales_summary, 10)"
   ]
  },
  {
   "cell_type": "code",
   "execution_count": 30,
   "metadata": {},
   "outputs": [
    {
     "data": {
      "text/plain": [
       "['Quito', 'Cayambe']"
      ]
     },
     "execution_count": 30,
     "metadata": {},
     "output_type": "execute_result"
    }
   ],
   "source": [
    "select_outstanding_items(cities_sales_summary, 27)"
   ]
  },
  {
   "cell_type": "code",
   "execution_count": 31,
   "metadata": {},
   "outputs": [
    {
     "data": {
      "text/plain": [
       "['Pichincha']"
      ]
     },
     "execution_count": 31,
     "metadata": {},
     "output_type": "execute_result"
    }
   ],
   "source": [
    "select_outstanding_items(states_sales_summary, 30)"
   ]
  },
  {
   "cell_type": "code",
   "execution_count": 32,
   "metadata": {},
   "outputs": [
    {
     "data": {
      "text/plain": [
       "[5.0, 14.0, 8.0, 17.0, 11.0]"
      ]
     },
     "execution_count": 32,
     "metadata": {},
     "output_type": "execute_result"
    }
   ],
   "source": [
    "select_outstanding_items(store_cluster_sales_summary, 40)"
   ]
  }
 ],
 "metadata": {
  "kernelspec": {
   "display_name": ".venv",
   "language": "python",
   "name": "python3"
  },
  "language_info": {
   "codemirror_mode": {
    "name": "ipython",
    "version": 3
   },
   "file_extension": ".py",
   "mimetype": "text/x-python",
   "name": "python",
   "nbconvert_exporter": "python",
   "pygments_lexer": "ipython3",
   "version": "3.12.3"
  }
 },
 "nbformat": 4,
 "nbformat_minor": 2
}
